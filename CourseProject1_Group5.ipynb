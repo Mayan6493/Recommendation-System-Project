{
 "cells": [
  {
   "cell_type": "markdown",
   "id": "8610f2cf",
   "metadata": {},
   "source": [
    "# Social Recommendation System using Content based Approach"
   ]
  },
  {
   "cell_type": "markdown",
   "id": "6c04c7b0",
   "metadata": {},
   "source": [
    "## Group 5"
   ]
  },
  {
   "cell_type": "code",
   "execution_count": 26,
   "id": "4a5ff83e",
   "metadata": {},
   "outputs": [
    {
     "name": "stderr",
     "output_type": "stream",
     "text": [
      "[nltk_data] Downloading package stopwords to C:\\Users\\Shubham\n",
      "[nltk_data]     Gupta\\AppData\\Roaming\\nltk_data...\n",
      "[nltk_data]   Package stopwords is already up-to-date!\n"
     ]
    }
   ],
   "source": [
    "import numpy as np\n",
    "from sklearn.manifold import TSNE\n",
    "# Importing necessary libraries\n",
    "import pandas as pd\n",
    "from sklearn.metrics import precision_score, recall_score, f1_score\n",
    "import nltk\n",
    "nltk.download('stopwords')\n",
    "from nltk.corpus import stopwords\n",
    "from sklearn.metrics.pairwise import linear_kernel\n",
    "from sklearn.feature_extraction.text import CountVectorizer\n",
    "from sklearn.feature_extraction.text import TfidfVectorizer\n",
    "from nltk.tokenize import RegexpTokenizer\n",
    "import re\n",
    "import string\n",
    "import random\n",
    "from PIL import Image\n",
    "import requests\n",
    "from io import BytesIO\n",
    "import matplotlib.pyplot as plt\n",
    "\n",
    "from sklearn.metrics.pairwise import cosine_similarity\n",
    "from gensim.models import Word2Vec\n",
    "from gensim.models.phrases import Phrases, Phraser\n",
    "from matplotlib import pyplot\n",
    "from gensim.models import KeyedVectors\n"
   ]
  },
  {
   "cell_type": "code",
   "execution_count": 2,
   "id": "902c3f77",
   "metadata": {},
   "outputs": [],
   "source": [
    "import pandas as pd\n",
    "import os"
   ]
  },
  {
   "cell_type": "markdown",
   "id": "096bec94",
   "metadata": {},
   "source": [
    "## Data Analysis"
   ]
  },
  {
   "cell_type": "code",
   "execution_count": null,
   "id": "f07ac84b",
   "metadata": {},
   "outputs": [],
   "source": [
    "file_name = 'ep.txt'\n",
    "home_directory = os.path.expanduser(\"~\")\n",
    "file_path = os.path.join(home_directory, file_name)\n",
    "with open(file_path, 'w', encoding=\"utf-8\") as file:\n",
    "    for index, row in df.iterrows():\n",
    "        row_as_list = row.to_list()\n",
    "        result_string = ' '.join(map(str, row_as_list))\n",
    "        modified_string = result_string.replace(' ', ',', 5)\n",
    "        file.write(modified_string + '\\n')\n",
    "print(\"Text file saved successfully at:\", file_path)"
   ]
  },
  {
   "cell_type": "code",
   "execution_count": 13,
   "id": "4925c027",
   "metadata": {},
   "outputs": [],
   "source": [
    "dfs = pd.read_csv(r\"C:\\Users\\Shubham Gupta\\ep.txt\", encoding='unicode_escape', header=None)\n",
    "dfs.columns = ['#item', 'user', 'paid', 'time', 'stars', 'words'] \n",
    "df_epinions = pd.DataFrame(dfs)"
   ]
  },
  {
   "cell_type": "code",
   "execution_count": 14,
   "id": "270574f5",
   "metadata": {},
   "outputs": [
    {
     "name": "stdout",
     "output_type": "stream",
     "text": [
      "<class 'pandas.core.frame.DataFrame'>\n",
      "RangeIndex: 200853 entries, 0 to 200852\n",
      "Data columns (total 6 columns):\n",
      " #   Column  Non-Null Count   Dtype \n",
      "---  ------  --------------   ----- \n",
      " 0   #item   198130 non-null  object\n",
      " 1   user    200852 non-null  object\n",
      " 2   paid    200417 non-null  object\n",
      " 3   time    198044 non-null  object\n",
      " 4   stars   198034 non-null  object\n",
      " 5   words   200853 non-null  object\n",
      "dtypes: object(6)\n",
      "memory usage: 9.2+ MB\n"
     ]
    }
   ],
   "source": [
    "df_epinions.info()"
   ]
  },
  {
   "cell_type": "code",
   "execution_count": 15,
   "id": "f90fbecc",
   "metadata": {},
   "outputs": [
    {
     "data": {
      "text/plain": [
       "paid\n",
       "200.0         3696\n",
       "100.0         3344\n",
       "150.0         3278\n",
       "300.0         2940\n",
       "250.0         2807\n",
       "              ... \n",
       "95.45            1\n",
       "3-5              1\n",
       "about18000       1\n",
       "6430.0           1\n",
       "42155.0          1\n",
       "Name: count, Length: 11455, dtype: int64"
      ]
     },
     "execution_count": 15,
     "metadata": {},
     "output_type": "execute_result"
    }
   ],
   "source": [
    "df_epinions['paid'].value_counts()"
   ]
  },
  {
   "cell_type": "code",
   "execution_count": 16,
   "id": "28e8bb8c",
   "metadata": {},
   "outputs": [
    {
     "data": {
      "text/html": [
       "<div>\n",
       "<style scoped>\n",
       "    .dataframe tbody tr th:only-of-type {\n",
       "        vertical-align: middle;\n",
       "    }\n",
       "\n",
       "    .dataframe tbody tr th {\n",
       "        vertical-align: top;\n",
       "    }\n",
       "\n",
       "    .dataframe thead th {\n",
       "        text-align: right;\n",
       "    }\n",
       "</style>\n",
       "<table border=\"1\" class=\"dataframe\">\n",
       "  <thead>\n",
       "    <tr style=\"text-align: right;\">\n",
       "      <th></th>\n",
       "      <th>#item</th>\n",
       "      <th>user</th>\n",
       "      <th>paid</th>\n",
       "      <th>time</th>\n",
       "      <th>stars</th>\n",
       "      <th>words</th>\n",
       "    </tr>\n",
       "  </thead>\n",
       "  <tbody>\n",
       "    <tr>\n",
       "      <th>count</th>\n",
       "      <td>198130</td>\n",
       "      <td>200852</td>\n",
       "      <td>200417</td>\n",
       "      <td>198044</td>\n",
       "      <td>198034</td>\n",
       "      <td>200853</td>\n",
       "    </tr>\n",
       "    <tr>\n",
       "      <th>unique</th>\n",
       "      <td>43055</td>\n",
       "      <td>121224</td>\n",
       "      <td>11455</td>\n",
       "      <td>5031</td>\n",
       "      <td>685</td>\n",
       "      <td>191020</td>\n",
       "    </tr>\n",
       "    <tr>\n",
       "      <th>top</th>\n",
       "      <td>Nokia_8260_AMPS_D_AMPS_Cellular_Phone_Cellular...</td>\n",
       "      <td>Dr_Steph</td>\n",
       "      <td>200.0</td>\n",
       "      <td>i</td>\n",
       "      <td>5.0</td>\n",
       "      <td>nan nan nan nan nan</td>\n",
       "    </tr>\n",
       "    <tr>\n",
       "      <th>freq</th>\n",
       "      <td>284</td>\n",
       "      <td>89</td>\n",
       "      <td>3696</td>\n",
       "      <td>869</td>\n",
       "      <td>78509</td>\n",
       "      <td>5237</td>\n",
       "    </tr>\n",
       "  </tbody>\n",
       "</table>\n",
       "</div>"
      ],
      "text/plain": [
       "                                                    #item      user    paid  \\\n",
       "count                                              198130    200852  200417   \n",
       "unique                                              43055    121224   11455   \n",
       "top     Nokia_8260_AMPS_D_AMPS_Cellular_Phone_Cellular...  Dr_Steph   200.0   \n",
       "freq                                                  284        89    3696   \n",
       "\n",
       "          time   stars                words  \n",
       "count   198044  198034               200853  \n",
       "unique    5031     685               191020  \n",
       "top          i     5.0  nan nan nan nan nan  \n",
       "freq       869   78509                 5237  "
      ]
     },
     "execution_count": 16,
     "metadata": {},
     "output_type": "execute_result"
    }
   ],
   "source": [
    "df_epinions.describe()"
   ]
  },
  {
   "cell_type": "code",
   "execution_count": 17,
   "id": "2b68cd56",
   "metadata": {},
   "outputs": [],
   "source": [
    "df_epinions.dropna(inplace= True)"
   ]
  },
  {
   "cell_type": "code",
   "execution_count": 18,
   "id": "7eb708ab",
   "metadata": {},
   "outputs": [
    {
     "data": {
      "text/plain": [
       "46"
      ]
     },
     "execution_count": 18,
     "metadata": {},
     "output_type": "execute_result"
    }
   ],
   "source": [
    "df_epinions.duplicated().sum()"
   ]
  },
  {
   "cell_type": "code",
   "execution_count": 19,
   "id": "ce13e0f1",
   "metadata": {},
   "outputs": [
    {
     "data": {
      "text/html": [
       "<div>\n",
       "<style scoped>\n",
       "    .dataframe tbody tr th:only-of-type {\n",
       "        vertical-align: middle;\n",
       "    }\n",
       "\n",
       "    .dataframe tbody tr th {\n",
       "        vertical-align: top;\n",
       "    }\n",
       "\n",
       "    .dataframe thead th {\n",
       "        text-align: right;\n",
       "    }\n",
       "</style>\n",
       "<table border=\"1\" class=\"dataframe\">\n",
       "  <thead>\n",
       "    <tr style=\"text-align: right;\">\n",
       "      <th></th>\n",
       "      <th>#item</th>\n",
       "      <th>user</th>\n",
       "      <th>paid</th>\n",
       "      <th>time</th>\n",
       "      <th>stars</th>\n",
       "      <th>words</th>\n",
       "    </tr>\n",
       "  </thead>\n",
       "  <tbody>\n",
       "    <tr>\n",
       "      <th>0</th>\n",
       "      <td>Minolta_QMS_PagePro_1250E_Printers</td>\n",
       "      <td>fgb59h</td>\n",
       "      <td>260.0</td>\n",
       "      <td>1027296000</td>\n",
       "      <td>4.0</td>\n",
       "      <td>i got this printer from minolta as a warranty ...</td>\n",
       "    </tr>\n",
       "    <tr>\n",
       "      <th>1</th>\n",
       "      <td>Sony_VAIO_PCG_K45_P4_538_3_2GHz_1MB_L2_533MHz_...</td>\n",
       "      <td>bucho_ky</td>\n",
       "      <td>1800.0</td>\n",
       "      <td>1201305600</td>\n",
       "      <td>2.0</td>\n",
       "      <td>although i love my vaio especially the gorgeou...</td>\n",
       "    </tr>\n",
       "    <tr>\n",
       "      <th>2</th>\n",
       "      <td>Sony_VAIO_PCG_K45_P4_538_3_2GHz_1MB_L2_533MHz_...</td>\n",
       "      <td>redp944</td>\n",
       "      <td>1000.0</td>\n",
       "      <td>1118016000</td>\n",
       "      <td>4.0</td>\n",
       "      <td>this is my first laptop and i bought it about ...</td>\n",
       "    </tr>\n",
       "    <tr>\n",
       "      <th>3</th>\n",
       "      <td>pr-Durabrand_CD-85_Personal_CD_Player</td>\n",
       "      <td>spongebag7</td>\n",
       "      <td>20.0</td>\n",
       "      <td>1149292800</td>\n",
       "      <td>4.0</td>\n",
       "      <td>just recently my sony dej001 walkman died on m...</td>\n",
       "    </tr>\n",
       "    <tr>\n",
       "      <th>4</th>\n",
       "      <td>pr-Sony_KV_36FS12__Standard_Televisions</td>\n",
       "      <td>pyros7</td>\n",
       "      <td>1199.0</td>\n",
       "      <td>1012262400</td>\n",
       "      <td>5.0</td>\n",
       "      <td>well when i graduated from college it didnt ta...</td>\n",
       "    </tr>\n",
       "    <tr>\n",
       "      <th>...</th>\n",
       "      <td>...</td>\n",
       "      <td>...</td>\n",
       "      <td>...</td>\n",
       "      <td>...</td>\n",
       "      <td>...</td>\n",
       "      <td>...</td>\n",
       "    </tr>\n",
       "    <tr>\n",
       "      <th>200848</th>\n",
       "      <td>auto_Make-2002_Ford_Thunderbird</td>\n",
       "      <td>chris_baehr</td>\n",
       "      <td>100000.0</td>\n",
       "      <td>1012608000</td>\n",
       "      <td>2.0</td>\n",
       "      <td>ford has once again tried to bring back the th...</td>\n",
       "    </tr>\n",
       "    <tr>\n",
       "      <th>200849</th>\n",
       "      <td>auto_Make-2002_Ford_Thunderbird</td>\n",
       "      <td>BrianCam</td>\n",
       "      <td>44000.0</td>\n",
       "      <td>1016409600</td>\n",
       "      <td>4.0</td>\n",
       "      <td>ford thunderbird the name alone says so much a...</td>\n",
       "    </tr>\n",
       "    <tr>\n",
       "      <th>200850</th>\n",
       "      <td>auto_Make-2002_Ford_Thunderbird</td>\n",
       "      <td>lanh</td>\n",
       "      <td>41000.0</td>\n",
       "      <td>1051747200</td>\n",
       "      <td>1.0</td>\n",
       "      <td>price is very high per features offered when y...</td>\n",
       "    </tr>\n",
       "    <tr>\n",
       "      <th>200851</th>\n",
       "      <td>auto_Make-2002_Ford_Thunderbird</td>\n",
       "      <td>spdster2002</td>\n",
       "      <td>42155.0</td>\n",
       "      <td>1029974400</td>\n",
       "      <td>5.0</td>\n",
       "      <td>after a 5year break ford finally restores its ...</td>\n",
       "    </tr>\n",
       "    <tr>\n",
       "      <th>200852</th>\n",
       "      <td>auto_Make-2002_Ford_Thunderbird</td>\n",
       "      <td>nylaphx</td>\n",
       "      <td>38000.0</td>\n",
       "      <td>1274227200</td>\n",
       "      <td>5.0</td>\n",
       "      <td>whats the best way to find out if you really l...</td>\n",
       "    </tr>\n",
       "  </tbody>\n",
       "</table>\n",
       "<p>195090 rows × 6 columns</p>\n",
       "</div>"
      ],
      "text/plain": [
       "                                                    #item         user  \\\n",
       "0                      Minolta_QMS_PagePro_1250E_Printers       fgb59h   \n",
       "1       Sony_VAIO_PCG_K45_P4_538_3_2GHz_1MB_L2_533MHz_...     bucho_ky   \n",
       "2       Sony_VAIO_PCG_K45_P4_538_3_2GHz_1MB_L2_533MHz_...      redp944   \n",
       "3                   pr-Durabrand_CD-85_Personal_CD_Player   spongebag7   \n",
       "4                 pr-Sony_KV_36FS12__Standard_Televisions       pyros7   \n",
       "...                                                   ...          ...   \n",
       "200848                    auto_Make-2002_Ford_Thunderbird  chris_baehr   \n",
       "200849                    auto_Make-2002_Ford_Thunderbird     BrianCam   \n",
       "200850                    auto_Make-2002_Ford_Thunderbird         lanh   \n",
       "200851                    auto_Make-2002_Ford_Thunderbird  spdster2002   \n",
       "200852                    auto_Make-2002_Ford_Thunderbird      nylaphx   \n",
       "\n",
       "            paid        time stars  \\\n",
       "0          260.0  1027296000   4.0   \n",
       "1         1800.0  1201305600   2.0   \n",
       "2         1000.0  1118016000   4.0   \n",
       "3           20.0  1149292800   4.0   \n",
       "4         1199.0  1012262400   5.0   \n",
       "...          ...         ...   ...   \n",
       "200848  100000.0  1012608000   2.0   \n",
       "200849   44000.0  1016409600   4.0   \n",
       "200850   41000.0  1051747200   1.0   \n",
       "200851   42155.0  1029974400   5.0   \n",
       "200852   38000.0  1274227200   5.0   \n",
       "\n",
       "                                                    words  \n",
       "0       i got this printer from minolta as a warranty ...  \n",
       "1       although i love my vaio especially the gorgeou...  \n",
       "2       this is my first laptop and i bought it about ...  \n",
       "3       just recently my sony dej001 walkman died on m...  \n",
       "4       well when i graduated from college it didnt ta...  \n",
       "...                                                   ...  \n",
       "200848  ford has once again tried to bring back the th...  \n",
       "200849  ford thunderbird the name alone says so much a...  \n",
       "200850  price is very high per features offered when y...  \n",
       "200851  after a 5year break ford finally restores its ...  \n",
       "200852  whats the best way to find out if you really l...  \n",
       "\n",
       "[195090 rows x 6 columns]"
      ]
     },
     "execution_count": 19,
     "metadata": {},
     "output_type": "execute_result"
    }
   ],
   "source": [
    "df_epinions.drop_duplicates()"
   ]
  },
  {
   "cell_type": "code",
   "execution_count": 20,
   "id": "8b458695",
   "metadata": {},
   "outputs": [],
   "source": [
    "df_epinions.to_csv('epinions.csv',  \n",
    "                index = None)"
   ]
  },
  {
   "cell_type": "code",
   "execution_count": 21,
   "id": "bc4a70d8",
   "metadata": {},
   "outputs": [],
   "source": [
    "df_epinions = pd.read_csv('D:/SEM 2/Lab Assignments/Recommendation System/CP 1/Modified data files/epinions.csv')"
   ]
  },
  {
   "cell_type": "code",
   "execution_count": 22,
   "id": "0ac77f55",
   "metadata": {},
   "outputs": [],
   "source": [
    "df_epinions = df_epinions[1:]"
   ]
  },
  {
   "cell_type": "code",
   "execution_count": 23,
   "id": "231dfb9e",
   "metadata": {},
   "outputs": [
    {
     "data": {
      "text/html": [
       "<div>\n",
       "<style scoped>\n",
       "    .dataframe tbody tr th:only-of-type {\n",
       "        vertical-align: middle;\n",
       "    }\n",
       "\n",
       "    .dataframe tbody tr th {\n",
       "        vertical-align: top;\n",
       "    }\n",
       "\n",
       "    .dataframe thead th {\n",
       "        text-align: right;\n",
       "    }\n",
       "</style>\n",
       "<table border=\"1\" class=\"dataframe\">\n",
       "  <thead>\n",
       "    <tr style=\"text-align: right;\">\n",
       "      <th></th>\n",
       "      <th>#item</th>\n",
       "      <th>user</th>\n",
       "      <th>paid</th>\n",
       "      <th>time</th>\n",
       "      <th>stars</th>\n",
       "      <th>words</th>\n",
       "    </tr>\n",
       "  </thead>\n",
       "  <tbody>\n",
       "    <tr>\n",
       "      <th>1</th>\n",
       "      <td>Sony_VAIO_PCG_K45_P4_538_3_2GHz_1MB_L2_533MHz_...</td>\n",
       "      <td>bucho_ky</td>\n",
       "      <td>1800.0</td>\n",
       "      <td>1201305600</td>\n",
       "      <td>2.0</td>\n",
       "      <td>although i love my vaio especially the gorgeou...</td>\n",
       "    </tr>\n",
       "    <tr>\n",
       "      <th>2</th>\n",
       "      <td>Sony_VAIO_PCG_K45_P4_538_3_2GHz_1MB_L2_533MHz_...</td>\n",
       "      <td>redp944</td>\n",
       "      <td>1000.0</td>\n",
       "      <td>1118016000</td>\n",
       "      <td>4.0</td>\n",
       "      <td>this is my first laptop and i bought it about ...</td>\n",
       "    </tr>\n",
       "    <tr>\n",
       "      <th>3</th>\n",
       "      <td>pr-Durabrand_CD-85_Personal_CD_Player</td>\n",
       "      <td>spongebag7</td>\n",
       "      <td>20.0</td>\n",
       "      <td>1149292800</td>\n",
       "      <td>4.0</td>\n",
       "      <td>just recently my sony dej001 walkman died on m...</td>\n",
       "    </tr>\n",
       "    <tr>\n",
       "      <th>4</th>\n",
       "      <td>pr-Sony_KV_36FS12__Standard_Televisions</td>\n",
       "      <td>pyros7</td>\n",
       "      <td>1199.0</td>\n",
       "      <td>1012262400</td>\n",
       "      <td>5.0</td>\n",
       "      <td>well when i graduated from college it didnt ta...</td>\n",
       "    </tr>\n",
       "    <tr>\n",
       "      <th>5</th>\n",
       "      <td>pr-Sony_KV_36FS12__Standard_Televisions</td>\n",
       "      <td>daleb</td>\n",
       "      <td>1350.0</td>\n",
       "      <td>982281600</td>\n",
       "      <td>4.0</td>\n",
       "      <td>out of the box its an impressive television it...</td>\n",
       "    </tr>\n",
       "  </tbody>\n",
       "</table>\n",
       "</div>"
      ],
      "text/plain": [
       "                                               #item        user    paid  \\\n",
       "1  Sony_VAIO_PCG_K45_P4_538_3_2GHz_1MB_L2_533MHz_...    bucho_ky  1800.0   \n",
       "2  Sony_VAIO_PCG_K45_P4_538_3_2GHz_1MB_L2_533MHz_...     redp944  1000.0   \n",
       "3              pr-Durabrand_CD-85_Personal_CD_Player  spongebag7    20.0   \n",
       "4            pr-Sony_KV_36FS12__Standard_Televisions      pyros7  1199.0   \n",
       "5            pr-Sony_KV_36FS12__Standard_Televisions       daleb  1350.0   \n",
       "\n",
       "         time  stars                                              words  \n",
       "1  1201305600    2.0  although i love my vaio especially the gorgeou...  \n",
       "2  1118016000    4.0  this is my first laptop and i bought it about ...  \n",
       "3  1149292800    4.0  just recently my sony dej001 walkman died on m...  \n",
       "4  1012262400    5.0  well when i graduated from college it didnt ta...  \n",
       "5   982281600    4.0  out of the box its an impressive television it...  "
      ]
     },
     "execution_count": 23,
     "metadata": {},
     "output_type": "execute_result"
    }
   ],
   "source": [
    "df_epinions.head()"
   ]
  },
  {
   "cell_type": "code",
   "execution_count": 24,
   "id": "eac7ab07",
   "metadata": {},
   "outputs": [
    {
     "data": {
      "text/plain": [
       "189929"
      ]
     },
     "execution_count": 24,
     "metadata": {},
     "output_type": "execute_result"
    }
   ],
   "source": [
    "len(df_epinions)"
   ]
  },
  {
   "cell_type": "code",
   "execution_count": 25,
   "id": "605d07ba",
   "metadata": {},
   "outputs": [
    {
     "data": {
      "text/plain": [
       "41522"
      ]
     },
     "execution_count": 25,
     "metadata": {},
     "output_type": "execute_result"
    }
   ],
   "source": [
    "len(df_epinions['#item'].unique())"
   ]
  },
  {
   "cell_type": "markdown",
   "id": "25a1ee7c",
   "metadata": {},
   "source": [
    "## Feature Extraction and NLP"
   ]
  },
  {
   "cell_type": "code",
   "execution_count": 234,
   "id": "ed8b64cd",
   "metadata": {},
   "outputs": [],
   "source": [
    "df = pd.read_csv(\"D:/Recommender System Datasets/epinions_data/epinions.csv\")\n",
    "df=df[1:10000]\n",
    "df = df.reset_index()"
   ]
  },
  {
   "cell_type": "code",
   "execution_count": 235,
   "id": "33b4d23f",
   "metadata": {},
   "outputs": [
    {
     "data": {
      "text/html": [
       "<div>\n",
       "<style scoped>\n",
       "    .dataframe tbody tr th:only-of-type {\n",
       "        vertical-align: middle;\n",
       "    }\n",
       "\n",
       "    .dataframe tbody tr th {\n",
       "        vertical-align: top;\n",
       "    }\n",
       "\n",
       "    .dataframe thead th {\n",
       "        text-align: right;\n",
       "    }\n",
       "</style>\n",
       "<table border=\"1\" class=\"dataframe\">\n",
       "  <thead>\n",
       "    <tr style=\"text-align: right;\">\n",
       "      <th></th>\n",
       "      <th>index</th>\n",
       "      <th>#item</th>\n",
       "      <th>user</th>\n",
       "      <th>paid</th>\n",
       "      <th>time</th>\n",
       "      <th>stars</th>\n",
       "      <th>words</th>\n",
       "    </tr>\n",
       "  </thead>\n",
       "  <tbody>\n",
       "    <tr>\n",
       "      <th>0</th>\n",
       "      <td>1</td>\n",
       "      <td>Sony_VAIO_PCG_K45_P4_538_3_2GHz_1MB_L2_533MHz_...</td>\n",
       "      <td>bucho_ky</td>\n",
       "      <td>1800.0</td>\n",
       "      <td>1201305600</td>\n",
       "      <td>2.0</td>\n",
       "      <td>although i love my vaio especially the gorgeou...</td>\n",
       "    </tr>\n",
       "    <tr>\n",
       "      <th>1</th>\n",
       "      <td>2</td>\n",
       "      <td>Sony_VAIO_PCG_K45_P4_538_3_2GHz_1MB_L2_533MHz_...</td>\n",
       "      <td>redp944</td>\n",
       "      <td>1000.0</td>\n",
       "      <td>1118016000</td>\n",
       "      <td>4.0</td>\n",
       "      <td>this is my first laptop and i bought it about ...</td>\n",
       "    </tr>\n",
       "    <tr>\n",
       "      <th>2</th>\n",
       "      <td>3</td>\n",
       "      <td>pr-Durabrand_CD-85_Personal_CD_Player</td>\n",
       "      <td>spongebag7</td>\n",
       "      <td>20.0</td>\n",
       "      <td>1149292800</td>\n",
       "      <td>4.0</td>\n",
       "      <td>just recently my sony dej001 walkman died on m...</td>\n",
       "    </tr>\n",
       "    <tr>\n",
       "      <th>3</th>\n",
       "      <td>4</td>\n",
       "      <td>pr-Sony_KV_36FS12__Standard_Televisions</td>\n",
       "      <td>pyros7</td>\n",
       "      <td>1199.0</td>\n",
       "      <td>1012262400</td>\n",
       "      <td>5.0</td>\n",
       "      <td>well when i graduated from college it didnt ta...</td>\n",
       "    </tr>\n",
       "    <tr>\n",
       "      <th>4</th>\n",
       "      <td>5</td>\n",
       "      <td>pr-Sony_KV_36FS12__Standard_Televisions</td>\n",
       "      <td>daleb</td>\n",
       "      <td>1350.0</td>\n",
       "      <td>982281600</td>\n",
       "      <td>4.0</td>\n",
       "      <td>out of the box its an impressive television it...</td>\n",
       "    </tr>\n",
       "    <tr>\n",
       "      <th>...</th>\n",
       "      <td>...</td>\n",
       "      <td>...</td>\n",
       "      <td>...</td>\n",
       "      <td>...</td>\n",
       "      <td>...</td>\n",
       "      <td>...</td>\n",
       "      <td>...</td>\n",
       "    </tr>\n",
       "    <tr>\n",
       "      <th>9994</th>\n",
       "      <td>9995</td>\n",
       "      <td>Syntax_LT_42HVi_Television</td>\n",
       "      <td>ajmesser</td>\n",
       "      <td>1400.0</td>\n",
       "      <td>1168473600</td>\n",
       "      <td>1.0</td>\n",
       "      <td>i bought this tv and soon discovered that ther...</td>\n",
       "    </tr>\n",
       "    <tr>\n",
       "      <th>9995</th>\n",
       "      <td>9996</td>\n",
       "      <td>Syntax_LT_42HVi_Television</td>\n",
       "      <td>conjo</td>\n",
       "      <td>1695.0</td>\n",
       "      <td>1148169600</td>\n",
       "      <td>5.0</td>\n",
       "      <td>i purchased this tv because of price resolutio...</td>\n",
       "    </tr>\n",
       "    <tr>\n",
       "      <th>9996</th>\n",
       "      <td>9997</td>\n",
       "      <td>Syntax_LT_42HVi_Television</td>\n",
       "      <td>hshipley</td>\n",
       "      <td>2200.0</td>\n",
       "      <td>1137369600</td>\n",
       "      <td>4.0</td>\n",
       "      <td>i purchased one of these tvs about one month a...</td>\n",
       "    </tr>\n",
       "    <tr>\n",
       "      <th>9997</th>\n",
       "      <td>9998</td>\n",
       "      <td>Syntax_LT_42HVi_Television</td>\n",
       "      <td>a7926</td>\n",
       "      <td>2195.0</td>\n",
       "      <td>1138147200</td>\n",
       "      <td>4.0</td>\n",
       "      <td>any price conscious person should look at this...</td>\n",
       "    </tr>\n",
       "    <tr>\n",
       "      <th>9998</th>\n",
       "      <td>9999</td>\n",
       "      <td>Syntax_LT_42HVi_Television</td>\n",
       "      <td>shersinghg</td>\n",
       "      <td>1758.0</td>\n",
       "      <td>1152144000</td>\n",
       "      <td>5.0</td>\n",
       "      <td>this hdtv gives me that looking out a window f...</td>\n",
       "    </tr>\n",
       "  </tbody>\n",
       "</table>\n",
       "<p>9999 rows × 7 columns</p>\n",
       "</div>"
      ],
      "text/plain": [
       "      index                                              #item        user  \\\n",
       "0         1  Sony_VAIO_PCG_K45_P4_538_3_2GHz_1MB_L2_533MHz_...    bucho_ky   \n",
       "1         2  Sony_VAIO_PCG_K45_P4_538_3_2GHz_1MB_L2_533MHz_...     redp944   \n",
       "2         3              pr-Durabrand_CD-85_Personal_CD_Player  spongebag7   \n",
       "3         4            pr-Sony_KV_36FS12__Standard_Televisions      pyros7   \n",
       "4         5            pr-Sony_KV_36FS12__Standard_Televisions       daleb   \n",
       "...     ...                                                ...         ...   \n",
       "9994   9995                         Syntax_LT_42HVi_Television    ajmesser   \n",
       "9995   9996                         Syntax_LT_42HVi_Television       conjo   \n",
       "9996   9997                         Syntax_LT_42HVi_Television    hshipley   \n",
       "9997   9998                         Syntax_LT_42HVi_Television       a7926   \n",
       "9998   9999                         Syntax_LT_42HVi_Television  shersinghg   \n",
       "\n",
       "        paid        time  stars  \\\n",
       "0     1800.0  1201305600    2.0   \n",
       "1     1000.0  1118016000    4.0   \n",
       "2       20.0  1149292800    4.0   \n",
       "3     1199.0  1012262400    5.0   \n",
       "4     1350.0   982281600    4.0   \n",
       "...      ...         ...    ...   \n",
       "9994  1400.0  1168473600    1.0   \n",
       "9995  1695.0  1148169600    5.0   \n",
       "9996  2200.0  1137369600    4.0   \n",
       "9997  2195.0  1138147200    4.0   \n",
       "9998  1758.0  1152144000    5.0   \n",
       "\n",
       "                                                  words  \n",
       "0     although i love my vaio especially the gorgeou...  \n",
       "1     this is my first laptop and i bought it about ...  \n",
       "2     just recently my sony dej001 walkman died on m...  \n",
       "3     well when i graduated from college it didnt ta...  \n",
       "4     out of the box its an impressive television it...  \n",
       "...                                                 ...  \n",
       "9994  i bought this tv and soon discovered that ther...  \n",
       "9995  i purchased this tv because of price resolutio...  \n",
       "9996  i purchased one of these tvs about one month a...  \n",
       "9997  any price conscious person should look at this...  \n",
       "9998  this hdtv gives me that looking out a window f...  \n",
       "\n",
       "[9999 rows x 7 columns]"
      ]
     },
     "execution_count": 235,
     "metadata": {},
     "output_type": "execute_result"
    }
   ],
   "source": [
    "df"
   ]
  },
  {
   "cell_type": "code",
   "execution_count": 236,
   "id": "1ea6d544",
   "metadata": {},
   "outputs": [],
   "source": [
    "\n",
    "def _removeNonAscii(s):\n",
    "    s=str(s)\n",
    "    return \"\".join(i for i in s if  ord(i)<128)\n",
    "\n",
    "def make_lower_case(text):\n",
    "    text=str(text)\n",
    "    return text.lower()\n",
    "\n",
    "def remove_stop_words(text):\n",
    "    text = text.split()\n",
    "    stops = set(stopwords.words(\"english\"))\n",
    "    text = [w for w in text if not w in stops]\n",
    "    text = \" \".join(text)\n",
    "    return text\n",
    "\n",
    "def remove_html(text):\n",
    "    html_pattern = re.compile('<.*?>')\n",
    "    return html_pattern.sub(r'', text)\n",
    "\n",
    "def remove_punctuation(text):\n",
    "    tokenizer = RegexpTokenizer(r'\\w+')\n",
    "    text = tokenizer.tokenize(text)\n",
    "    text = \" \".join(text)\n",
    "    return text\n",
    "\n",
    "df['cleaned'] = df['words'].apply(_removeNonAscii)\n",
    "\n",
    "df['cleaned'] = df.cleaned.apply(func = make_lower_case)\n",
    "df['cleaned'] = df.cleaned.apply(func = remove_stop_words)\n",
    "df['cleaned'] = df.cleaned.apply(func=remove_punctuation)\n",
    "df['cleaned'] = df.cleaned.apply(func=remove_html)"
   ]
  },
  {
   "cell_type": "markdown",
   "id": "64eab243",
   "metadata": {},
   "source": [
    "## Representation of reviews and Mapping them with users"
   ]
  },
  {
   "cell_type": "code",
   "execution_count": 237,
   "id": "82a945f7",
   "metadata": {},
   "outputs": [],
   "source": [
    "corpus = []\n",
    "for words in df['cleaned']:\n",
    "    corpus.append(words.split())\n"
   ]
  },
  {
   "cell_type": "code",
   "execution_count": 239,
   "id": "161ab979",
   "metadata": {},
   "outputs": [
    {
     "data": {
      "text/plain": [
       "(6464194, 7120550)"
      ]
     },
     "execution_count": 239,
     "metadata": {},
     "output_type": "execute_result"
    }
   ],
   "source": [
    "\n",
    "model = Word2Vec(window = 10, sg = 1, hs = 0,\n",
    "                 negative = 10, \n",
    "                 alpha=0.03, min_alpha=0.0007,\n",
    "                 seed = 14)\n",
    "model.build_vocab(corpus, progress_per=200)\n",
    "model.train(corpus, total_examples = model.corpus_count, \n",
    "            epochs=10, report_delay=1)\n"
   ]
  },
  {
   "cell_type": "code",
   "execution_count": null,
   "id": "74014597",
   "metadata": {},
   "outputs": [],
   "source": [
    "ms = model.wv.similar_by_vector('every', topn= 6)[1:]\n",
    "ms"
   ]
  },
  {
   "cell_type": "code",
   "execution_count": 240,
   "id": "03d164ba",
   "metadata": {},
   "outputs": [],
   "source": [
    "def vectors(x):\n",
    "    \n",
    "    # Creating a list for storing the vectors (description into vectors)\n",
    "    global word_embeddings\n",
    "    word_embeddings = []\n",
    "    arr=[]\n",
    "    # Reading the each book description\n",
    "    for index, row in df.iterrows():\n",
    "        line=row['cleaned']\n",
    "        avgword2vec = None\n",
    "        count = 0\n",
    "        \"\"\"\n",
    "        for word in model.wv.key_to_index:\n",
    "            if(word not in line.split()):\n",
    "                arr.append(0)\n",
    "            else:\n",
    "                arr.append(model.wv.key_to_index[word])\n",
    "        \"\"\"\n",
    "        \n",
    "        for word in line.split():\n",
    "            if word in model.wv:\n",
    "                count += 1\n",
    "                if avgword2vec is None:\n",
    "                    avgword2vec = model.wv[word]\n",
    "                else:\n",
    "                    avgword2vec = avgword2vec + model.wv[word]\n",
    "        \n",
    "        \n",
    "        if avgword2vec is not None:\n",
    "            avgword2vec = avgword2vec / count\n",
    "        \n",
    "        word_embeddings.append([row['#item'],avgword2vec])"
   ]
  },
  {
   "cell_type": "code",
   "execution_count": 241,
   "id": "1b945792",
   "metadata": {},
   "outputs": [
    {
     "data": {
      "text/plain": [
       "9999"
      ]
     },
     "execution_count": 241,
     "metadata": {},
     "output_type": "execute_result"
    }
   ],
   "source": [
    "vectors(df)\n",
    "len(word_embeddings)"
   ]
  },
  {
   "cell_type": "code",
   "execution_count": 242,
   "id": "c72b1ee6",
   "metadata": {},
   "outputs": [
    {
     "name": "stderr",
     "output_type": "stream",
     "text": [
      "c:\\users\\shashwat\\appdata\\local\\programs\\python\\python37\\lib\\site-packages\\sklearn\\utils\\deprecation.py:87: FutureWarning: Function get_feature_names is deprecated; get_feature_names is deprecated in 1.0 and will be removed in 1.2. Please use get_feature_names_out instead.\n",
      "  warnings.warn(msg, category=FutureWarning)\n"
     ]
    }
   ],
   "source": [
    "#Building TFIDF model and calculate TFIDF score\n",
    "\n",
    "tfidf = TfidfVectorizer(analyzer='word', ngram_range=(1, 3), min_df = 5, stop_words='english')\n",
    "tfidf.fit(df['cleaned'])\n",
    "\n",
    "# Getting the words from the TF-IDF model\n",
    "\n",
    "tfidf_list = dict(zip(tfidf.get_feature_names(), list(tfidf.idf_)))\n",
    "tfidf_feature = tfidf.get_feature_names() # tfidf words/col-names"
   ]
  },
  {
   "cell_type": "code",
   "execution_count": 243,
   "id": "e08d8bb1",
   "metadata": {},
   "outputs": [],
   "source": [
    "# Building TF-IDF Word2Vec \n",
    "\n",
    "# Storing the TFIDF Word2Vec embeddings\n",
    "tfidf_vectors = []; \n",
    "line = 0;\n",
    "# for each book description\n",
    "c=0\n",
    "for desc in corpus: \n",
    "    \n",
    "  # Word vectors are of zero length (Used 300 dimensions)\n",
    "    sent_vec = np.zeros(100) \n",
    "    # num of words with a valid vector in the book description\n",
    "    weight_sum =0; \n",
    "    # for each word in the book description\n",
    "    for word in desc: \n",
    "        if word in model.wv and word in tfidf_feature:\n",
    "            vec = model.wv[word]\n",
    "            tf_idf = tfidf_list[word] * (desc.count(word) / len(desc))\n",
    "            sent_vec += (vec * tf_idf)\n",
    "            weight_sum += tf_idf\n",
    "    \n",
    "    if weight_sum != 0:\n",
    "        sent_vec /= weight_sum\n",
    "        \n",
    "        #sent_vec=np.dot(sent_vec, st)\n",
    "        #sent_vec=list(np.array(sent_vec)*np.array(st))\n",
    "        #print(sent_vec)\n",
    "    sent_vec=np.dot(sent_vec,int(df[c:c+1][\"stars\"]))\n",
    "    \n",
    "    tfidf_vectors.append(sent_vec)\n",
    "    line += 1\n",
    "    c=c+1"
   ]
  },
  {
   "cell_type": "markdown",
   "id": "f07f3b2d",
   "metadata": {},
   "source": [
    "## Designing the Content based systems using the Tf-Idf and Word2Vec"
   ]
  },
  {
   "cell_type": "code",
   "execution_count": 244,
   "id": "85911aa6",
   "metadata": {},
   "outputs": [],
   "source": [
    "def recommendations(cleaned):\n",
    "    \n",
    "    # finding cosine similarity for the vectors\n",
    "\n",
    "    cosine_similarities = cosine_similarity(tfidf_vectors,  tfidf_vectors)\n",
    "    \n",
    "    \n",
    "    # taking the title and book image link and store in new data frame called books\n",
    "    books = df[['#item', 'cleaned', 'words']]\n",
    "    #Reverse mapping of the index\n",
    "    indices = pd.Series(df.index, index = df['cleaned']).drop_duplicates()\n",
    "    #print(indices.shape)\n",
    "    \n",
    "    idx = indices[cleaned]\n",
    "    sim_scores = list(enumerate(cosine_similarities[idx]))\n",
    "    sim_scores = sorted(sim_scores, key = lambda x: x[1], reverse = True)\n",
    "    \n",
    "    sim_scores = sim_scores[0:6]\n",
    "    \n",
    "    return sim_scores\n",
    "    \n",
    "        "
   ]
  },
  {
   "cell_type": "code",
   "execution_count": 205,
   "id": "228daddd",
   "metadata": {},
   "outputs": [],
   "source": [
    "import requests\n",
    "from bs4 import BeautifulSoup\n",
    "\n",
    "def find_title(work):\n",
    "    a=int(work)\n",
    "    r = requests.get('https://www.librarything.com/work/'+str(a)+'/workdetails') \n",
    "\n",
    "    soup = BeautifulSoup(r.content, 'html.parser') \n",
    "\n",
    "    t=str(soup.title)\n",
    "    t=t.replace(\"<title>Workdetails: \",\"\")\n",
    "    t=t.replace(\" | LibraryThing</title>\",\"\")\n",
    "    return t\n"
   ]
  },
  {
   "cell_type": "code",
   "execution_count": 247,
   "id": "7fc5107b",
   "metadata": {},
   "outputs": [],
   "source": [
    "def final_rec(user):\n",
    "    books = df[['#item', 'cleaned', 'words']]\n",
    "    dfn = df[df['user']==user]\n",
    "    c=[]\n",
    "    for index, row in dfn.iterrows():\n",
    "        c.append(recommendations(row['cleaned']))\n",
    "    k=[]\n",
    "    for i in c:\n",
    "        for j in i:\n",
    "            k.append(j)\n",
    "    k = sorted(k, key = lambda x: x[1], reverse = True)\n",
    "    k = k[0:6]\n",
    "\n",
    "    \n",
    "    book_indices = [i[0] for i in k]\n",
    "    recommend = books.iloc[book_indices]\n",
    "    rec=[]\n",
    "    for index, row in recommend.iterrows():\n",
    "        #print(find_title(row['#item']))\n",
    "        print(row['#item'])\n",
    "        rec.append(row[\"#item\"])\n",
    "    return rec\n",
    "    \n"
   ]
  },
  {
   "cell_type": "code",
   "execution_count": 248,
   "id": "fc33c0c5",
   "metadata": {
    "scrolled": false
   },
   "outputs": [
    {
     "name": "stdout",
     "output_type": "stream",
     "text": [
      "Epson_EPLl_5700i_Laser_Printer__Printers_C363001\n",
      "pr-Acer_Professional_1240UT_Flatbed_Scanner\n",
      "cmhd-Monitors-All-Viewsonic_VP181\n",
      "Nokia_7160_Cellular_Phone\n",
      "Digital_Products_International_OFFICEJET_J6480_AIO_PR_25_31PPM_1200DPI_US_EN_InkJet_Printer\n",
      "pr-D-Link_DI_704P_DI-704P_Router\n"
     ]
    }
   ],
   "source": [
    "rec=final_rec('200067')"
   ]
  },
  {
   "cell_type": "code",
   "execution_count": 249,
   "id": "a7d89cfc",
   "metadata": {},
   "outputs": [],
   "source": [
    "\n",
    "def evaluation(rec, user):\n",
    "    bought=df[df['user']==user]\n",
    "    liked=list(bought.where(df['stars']>=4)['#item'])\n",
    "    disliked=bought.where(df['stars']<4)['#item']\n",
    "    #precision=precision_score(list(bought['#item']), rec, average='macro')\n",
    "    #precision_score(y_true, y_pred, average='macro')\n",
    "    #print(bought)\n",
    "    tp=0\n",
    "    for i in liked:\n",
    "        if(i in rec):\n",
    "            tp=tp+1\n",
    "    fn=0\n",
    "    for i in liked:\n",
    "        if(i not in rec):\n",
    "            fn=fn+1\n",
    "    fp=0\n",
    "    for i in rec:\n",
    "        if(i not in liked):\n",
    "            fp=fp+1\n",
    "    precision=tp/(tp+fp)\n",
    "    recall=tp/(tp+fn)\n",
    "    f1=2*precision*recall/(precision+recall)\n",
    "    print(precision)\n",
    "    print(f1)\n",
    "    print(recall)"
   ]
  },
  {
   "cell_type": "code",
   "execution_count": 250,
   "id": "b3d7b1dc",
   "metadata": {},
   "outputs": [
    {
     "data": {
      "text/plain": [
       "['Nokia_7160_Cellular_Phone',\n",
       " 'Epson_EPLl_5700i_Laser_Printer__Printers_C363001',\n",
       " 'cmhd-Monitors-All-Viewsonic_VP181',\n",
       " 'pr-Acer_Professional_1240UT_Flatbed_Scanner']"
      ]
     },
     "execution_count": 250,
     "metadata": {},
     "output_type": "execute_result"
    }
   ],
   "source": [
    "bought=df[df['user']=='200067']\n",
    "list(bought['#item'])"
   ]
  },
  {
   "cell_type": "code",
   "execution_count": 251,
   "id": "0e9ae836",
   "metadata": {},
   "outputs": [
    {
     "name": "stdout",
     "output_type": "stream",
     "text": [
      "0.6666666666666666\n",
      "0.8\n",
      "1.0\n"
     ]
    }
   ],
   "source": [
    "evaluation(rec,'200067')"
   ]
  },
  {
   "cell_type": "code",
   "execution_count": null,
   "id": "828050e0",
   "metadata": {},
   "outputs": [],
   "source": []
  },
  {
   "cell_type": "code",
   "execution_count": 35,
   "id": "d02ab2d9",
   "metadata": {},
   "outputs": [],
   "source": [
    "import seaborn as sns\n",
    "import matplotlib.pyplot as plt\n",
    "import plotly.express as px\n",
    "from sklearn.feature_extraction.text import CountVectorizer"
   ]
  },
  {
   "cell_type": "code",
   "execution_count": 28,
   "id": "13d45d34",
   "metadata": {},
   "outputs": [],
   "source": [
    "reviews=pd.read_csv(\"C:/Users/Shubham Gupta/Desktop/reviews2.csv\")"
   ]
  },
  {
   "cell_type": "code",
   "execution_count": 29,
   "id": "56642eef",
   "metadata": {},
   "outputs": [
    {
     "data": {
      "text/html": [
       "<div>\n",
       "<style scoped>\n",
       "    .dataframe tbody tr th:only-of-type {\n",
       "        vertical-align: middle;\n",
       "    }\n",
       "\n",
       "    .dataframe tbody tr th {\n",
       "        vertical-align: top;\n",
       "    }\n",
       "\n",
       "    .dataframe thead th {\n",
       "        text-align: right;\n",
       "    }\n",
       "</style>\n",
       "<table border=\"1\" class=\"dataframe\">\n",
       "  <thead>\n",
       "    <tr style=\"text-align: right;\">\n",
       "      <th></th>\n",
       "      <th>Unnamed: 0</th>\n",
       "      <th>comment</th>\n",
       "      <th>nhelpful</th>\n",
       "      <th>unixtime</th>\n",
       "      <th>work</th>\n",
       "      <th>flags</th>\n",
       "      <th>user</th>\n",
       "      <th>stars</th>\n",
       "      <th>time</th>\n",
       "    </tr>\n",
       "  </thead>\n",
       "  <tbody>\n",
       "    <tr>\n",
       "      <th>1</th>\n",
       "      <td>1</td>\n",
       "      <td>Every evening, the brave queen of Persia, Shah...</td>\n",
       "      <td>0.0</td>\n",
       "      <td>1.332288e+09</td>\n",
       "      <td>73960.0</td>\n",
       "      <td>[]</td>\n",
       "      <td>Elizabeth.Wong98</td>\n",
       "      <td>4.5</td>\n",
       "      <td>Mar 21, 2012</td>\n",
       "    </tr>\n",
       "    <tr>\n",
       "      <th>2</th>\n",
       "      <td>2</td>\n",
       "      <td>Its the 1983-84 school year and Edward Zanni o...</td>\n",
       "      <td>0.0</td>\n",
       "      <td>1.253405e+09</td>\n",
       "      <td>69413.0</td>\n",
       "      <td>[]</td>\n",
       "      <td>rivkat</td>\n",
       "      <td>3.0</td>\n",
       "      <td>Sep 20, 2009</td>\n",
       "    </tr>\n",
       "    <tr>\n",
       "      <th>3</th>\n",
       "      <td>3</td>\n",
       "      <td>I became privy to this book, when another auth...</td>\n",
       "      <td>0.0</td>\n",
       "      <td>1.299888e+09</td>\n",
       "      <td>9523995.0</td>\n",
       "      <td>[]</td>\n",
       "      <td>suz.haugland</td>\n",
       "      <td>4.0</td>\n",
       "      <td>Mar 12, 2011</td>\n",
       "    </tr>\n",
       "    <tr>\n",
       "      <th>4</th>\n",
       "      <td>4</td>\n",
       "      <td>.</td>\n",
       "      <td>0.0</td>\n",
       "      <td>1.327277e+09</td>\n",
       "      <td>368228.0</td>\n",
       "      <td>[]</td>\n",
       "      <td>amoskovacs</td>\n",
       "      <td>4.0</td>\n",
       "      <td>Jan 23, 2012</td>\n",
       "    </tr>\n",
       "    <tr>\n",
       "      <th>5</th>\n",
       "      <td>5</td>\n",
       "      <td>This is a tremendous story of a freed woman an...</td>\n",
       "      <td>0.0</td>\n",
       "      <td>1.329005e+09</td>\n",
       "      <td>11243828.0</td>\n",
       "      <td>[]</td>\n",
       "      <td>CandyH</td>\n",
       "      <td>4.0</td>\n",
       "      <td>Feb 12, 2012</td>\n",
       "    </tr>\n",
       "    <tr>\n",
       "      <th>6</th>\n",
       "      <td>6</td>\n",
       "      <td>And with this book, I am officially caught up ...</td>\n",
       "      <td>0.0</td>\n",
       "      <td>1.278893e+09</td>\n",
       "      <td>9071901.0</td>\n",
       "      <td>[]</td>\n",
       "      <td>miyurose</td>\n",
       "      <td>2.0</td>\n",
       "      <td>Jul 12, 2010</td>\n",
       "    </tr>\n",
       "    <tr>\n",
       "      <th>7</th>\n",
       "      <td>7</td>\n",
       "      <td>What PUN!\\nHaving a sister was weird. It was l...</td>\n",
       "      <td>0.0</td>\n",
       "      <td>1.315354e+09</td>\n",
       "      <td>4842812.0</td>\n",
       "      <td>[]</td>\n",
       "      <td>melissaconway</td>\n",
       "      <td>3.0</td>\n",
       "      <td>Sep 7, 2011</td>\n",
       "    </tr>\n",
       "    <tr>\n",
       "      <th>8</th>\n",
       "      <td>8</td>\n",
       "      <td>A new designer drug that makes people very agg...</td>\n",
       "      <td>0.0</td>\n",
       "      <td>1.227226e+09</td>\n",
       "      <td>32125.0</td>\n",
       "      <td>[]</td>\n",
       "      <td>mab2008</td>\n",
       "      <td>3.5</td>\n",
       "      <td>Nov 21, 2008</td>\n",
       "    </tr>\n",
       "    <tr>\n",
       "      <th>9</th>\n",
       "      <td>9</td>\n",
       "      <td>great</td>\n",
       "      <td>0.0</td>\n",
       "      <td>1.377216e+09</td>\n",
       "      <td>1110874.0</td>\n",
       "      <td>[]</td>\n",
       "      <td>Mamajeanne</td>\n",
       "      <td>5.0</td>\n",
       "      <td>Aug 23, 2013</td>\n",
       "    </tr>\n",
       "    <tr>\n",
       "      <th>10</th>\n",
       "      <td>10</td>\n",
       "      <td>Beoordeling boek Grieselstate \\nHet boek Gries...</td>\n",
       "      <td>1.0</td>\n",
       "      <td>1.305677e+09</td>\n",
       "      <td>794394.0</td>\n",
       "      <td>[]</td>\n",
       "      <td>esther4</td>\n",
       "      <td>NaN</td>\n",
       "      <td>May 18, 2011</td>\n",
       "    </tr>\n",
       "  </tbody>\n",
       "</table>\n",
       "</div>"
      ],
      "text/plain": [
       "    Unnamed: 0                                            comment  nhelpful  \\\n",
       "1            1  Every evening, the brave queen of Persia, Shah...       0.0   \n",
       "2            2  Its the 1983-84 school year and Edward Zanni o...       0.0   \n",
       "3            3  I became privy to this book, when another auth...       0.0   \n",
       "4            4                                              .           0.0   \n",
       "5            5  This is a tremendous story of a freed woman an...       0.0   \n",
       "6            6  And with this book, I am officially caught up ...       0.0   \n",
       "7            7  What PUN!\\nHaving a sister was weird. It was l...       0.0   \n",
       "8            8  A new designer drug that makes people very agg...       0.0   \n",
       "9            9                                             great        0.0   \n",
       "10          10  Beoordeling boek Grieselstate \\nHet boek Gries...       1.0   \n",
       "\n",
       "        unixtime        work flags              user  stars          time  \n",
       "1   1.332288e+09     73960.0    []  Elizabeth.Wong98    4.5  Mar 21, 2012  \n",
       "2   1.253405e+09     69413.0    []            rivkat    3.0  Sep 20, 2009  \n",
       "3   1.299888e+09   9523995.0    []      suz.haugland    4.0  Mar 12, 2011  \n",
       "4   1.327277e+09    368228.0    []        amoskovacs    4.0  Jan 23, 2012  \n",
       "5   1.329005e+09  11243828.0    []            CandyH    4.0  Feb 12, 2012  \n",
       "6   1.278893e+09   9071901.0    []          miyurose    2.0  Jul 12, 2010  \n",
       "7   1.315354e+09   4842812.0    []     melissaconway    3.0   Sep 7, 2011  \n",
       "8   1.227226e+09     32125.0    []           mab2008    3.5  Nov 21, 2008  \n",
       "9   1.377216e+09   1110874.0    []        Mamajeanne    5.0  Aug 23, 2013  \n",
       "10  1.305677e+09    794394.0    []           esther4    NaN  May 18, 2011  "
      ]
     },
     "execution_count": 29,
     "metadata": {},
     "output_type": "execute_result"
    }
   ],
   "source": [
    "reviews=reviews[1:]\n",
    "reviews.head(10)"
   ]
  },
  {
   "cell_type": "code",
   "execution_count": 30,
   "id": "68826df4",
   "metadata": {},
   "outputs": [
    {
     "data": {
      "text/plain": [
       "Unnamed: 0      0\n",
       "comment         0\n",
       "nhelpful        0\n",
       "unixtime        0\n",
       "work            0\n",
       "flags           0\n",
       "user            0\n",
       "stars         180\n",
       "time            0\n",
       "dtype: int64"
      ]
     },
     "execution_count": 30,
     "metadata": {},
     "output_type": "execute_result"
    }
   ],
   "source": [
    "nan_count=reviews.isnull().sum()\n",
    "nan_count"
   ]
  },
  {
   "cell_type": "code",
   "execution_count": 31,
   "id": "b61b4958",
   "metadata": {},
   "outputs": [
    {
     "data": {
      "text/plain": [
       "(820, 9)"
      ]
     },
     "execution_count": 31,
     "metadata": {},
     "output_type": "execute_result"
    }
   ],
   "source": [
    "\n",
    "review1=reviews.dropna()\n",
    "review1.shape"
   ]
  },
  {
   "cell_type": "code",
   "execution_count": 32,
   "id": "f0483b27",
   "metadata": {},
   "outputs": [
    {
     "data": {
      "text/html": [
       "<div>\n",
       "<style scoped>\n",
       "    .dataframe tbody tr th:only-of-type {\n",
       "        vertical-align: middle;\n",
       "    }\n",
       "\n",
       "    .dataframe tbody tr th {\n",
       "        vertical-align: top;\n",
       "    }\n",
       "\n",
       "    .dataframe thead th {\n",
       "        text-align: right;\n",
       "    }\n",
       "</style>\n",
       "<table border=\"1\" class=\"dataframe\">\n",
       "  <thead>\n",
       "    <tr style=\"text-align: right;\">\n",
       "      <th></th>\n",
       "      <th>Unnamed: 0</th>\n",
       "      <th>comment</th>\n",
       "      <th>nhelpful</th>\n",
       "      <th>unixtime</th>\n",
       "      <th>work</th>\n",
       "      <th>flags</th>\n",
       "      <th>user</th>\n",
       "      <th>stars</th>\n",
       "      <th>time</th>\n",
       "    </tr>\n",
       "  </thead>\n",
       "  <tbody>\n",
       "    <tr>\n",
       "      <th>1</th>\n",
       "      <td>1</td>\n",
       "      <td>Every evening, the brave queen of Persia, Shah...</td>\n",
       "      <td>0.0</td>\n",
       "      <td>1.332288e+09</td>\n",
       "      <td>73960.0</td>\n",
       "      <td>[]</td>\n",
       "      <td>Elizabeth.Wong98</td>\n",
       "      <td>4.5</td>\n",
       "      <td>Mar 21, 2012</td>\n",
       "    </tr>\n",
       "    <tr>\n",
       "      <th>2</th>\n",
       "      <td>2</td>\n",
       "      <td>Its the 1983-84 school year and Edward Zanni o...</td>\n",
       "      <td>0.0</td>\n",
       "      <td>1.253405e+09</td>\n",
       "      <td>69413.0</td>\n",
       "      <td>[]</td>\n",
       "      <td>rivkat</td>\n",
       "      <td>3.0</td>\n",
       "      <td>Sep 20, 2009</td>\n",
       "    </tr>\n",
       "    <tr>\n",
       "      <th>3</th>\n",
       "      <td>3</td>\n",
       "      <td>I became privy to this book, when another auth...</td>\n",
       "      <td>0.0</td>\n",
       "      <td>1.299888e+09</td>\n",
       "      <td>9523995.0</td>\n",
       "      <td>[]</td>\n",
       "      <td>suz.haugland</td>\n",
       "      <td>4.0</td>\n",
       "      <td>Mar 12, 2011</td>\n",
       "    </tr>\n",
       "    <tr>\n",
       "      <th>4</th>\n",
       "      <td>4</td>\n",
       "      <td>.</td>\n",
       "      <td>0.0</td>\n",
       "      <td>1.327277e+09</td>\n",
       "      <td>368228.0</td>\n",
       "      <td>[]</td>\n",
       "      <td>amoskovacs</td>\n",
       "      <td>4.0</td>\n",
       "      <td>Jan 23, 2012</td>\n",
       "    </tr>\n",
       "    <tr>\n",
       "      <th>5</th>\n",
       "      <td>5</td>\n",
       "      <td>This is a tremendous story of a freed woman an...</td>\n",
       "      <td>0.0</td>\n",
       "      <td>1.329005e+09</td>\n",
       "      <td>11243828.0</td>\n",
       "      <td>[]</td>\n",
       "      <td>CandyH</td>\n",
       "      <td>4.0</td>\n",
       "      <td>Feb 12, 2012</td>\n",
       "    </tr>\n",
       "  </tbody>\n",
       "</table>\n",
       "</div>"
      ],
      "text/plain": [
       "   Unnamed: 0                                            comment  nhelpful  \\\n",
       "1           1  Every evening, the brave queen of Persia, Shah...       0.0   \n",
       "2           2  Its the 1983-84 school year and Edward Zanni o...       0.0   \n",
       "3           3  I became privy to this book, when another auth...       0.0   \n",
       "4           4                                              .           0.0   \n",
       "5           5  This is a tremendous story of a freed woman an...       0.0   \n",
       "\n",
       "       unixtime        work flags              user  stars          time  \n",
       "1  1.332288e+09     73960.0    []  Elizabeth.Wong98    4.5  Mar 21, 2012  \n",
       "2  1.253405e+09     69413.0    []            rivkat    3.0  Sep 20, 2009  \n",
       "3  1.299888e+09   9523995.0    []      suz.haugland    4.0  Mar 12, 2011  \n",
       "4  1.327277e+09    368228.0    []        amoskovacs    4.0  Jan 23, 2012  \n",
       "5  1.329005e+09  11243828.0    []            CandyH    4.0  Feb 12, 2012  "
      ]
     },
     "execution_count": 32,
     "metadata": {},
     "output_type": "execute_result"
    }
   ],
   "source": [
    "review1.head()"
   ]
  },
  {
   "cell_type": "code",
   "execution_count": 33,
   "id": "c2bde87a",
   "metadata": {},
   "outputs": [
    {
     "data": {
      "text/html": [
       "<div>\n",
       "<style scoped>\n",
       "    .dataframe tbody tr th:only-of-type {\n",
       "        vertical-align: middle;\n",
       "    }\n",
       "\n",
       "    .dataframe tbody tr th {\n",
       "        vertical-align: top;\n",
       "    }\n",
       "\n",
       "    .dataframe thead th {\n",
       "        text-align: right;\n",
       "    }\n",
       "</style>\n",
       "<table border=\"1\" class=\"dataframe\">\n",
       "  <thead>\n",
       "    <tr style=\"text-align: right;\">\n",
       "      <th></th>\n",
       "      <th>Unnamed: 0</th>\n",
       "      <th>nhelpful</th>\n",
       "      <th>unixtime</th>\n",
       "      <th>work</th>\n",
       "      <th>stars</th>\n",
       "    </tr>\n",
       "  </thead>\n",
       "  <tbody>\n",
       "    <tr>\n",
       "      <th>count</th>\n",
       "      <td>820.000000</td>\n",
       "      <td>820.000000</td>\n",
       "      <td>8.200000e+02</td>\n",
       "      <td>8.200000e+02</td>\n",
       "      <td>820.000000</td>\n",
       "    </tr>\n",
       "    <tr>\n",
       "      <th>mean</th>\n",
       "      <td>489.319512</td>\n",
       "      <td>0.229268</td>\n",
       "      <td>1.278911e+09</td>\n",
       "      <td>4.895723e+06</td>\n",
       "      <td>3.844512</td>\n",
       "    </tr>\n",
       "    <tr>\n",
       "      <th>std</th>\n",
       "      <td>287.641142</td>\n",
       "      <td>1.219949</td>\n",
       "      <td>1.003725e+08</td>\n",
       "      <td>4.732949e+06</td>\n",
       "      <td>1.006951</td>\n",
       "    </tr>\n",
       "    <tr>\n",
       "      <th>min</th>\n",
       "      <td>1.000000</td>\n",
       "      <td>0.000000</td>\n",
       "      <td>-8.640000e+04</td>\n",
       "      <td>2.710000e+02</td>\n",
       "      <td>0.500000</td>\n",
       "    </tr>\n",
       "    <tr>\n",
       "      <th>25%</th>\n",
       "      <td>237.750000</td>\n",
       "      <td>0.000000</td>\n",
       "      <td>1.231826e+09</td>\n",
       "      <td>2.172648e+05</td>\n",
       "      <td>3.000000</td>\n",
       "    </tr>\n",
       "    <tr>\n",
       "      <th>50%</th>\n",
       "      <td>484.500000</td>\n",
       "      <td>0.000000</td>\n",
       "      <td>1.291205e+09</td>\n",
       "      <td>3.338272e+06</td>\n",
       "      <td>4.000000</td>\n",
       "    </tr>\n",
       "    <tr>\n",
       "      <th>75%</th>\n",
       "      <td>730.750000</td>\n",
       "      <td>0.000000</td>\n",
       "      <td>1.336176e+09</td>\n",
       "      <td>9.468254e+06</td>\n",
       "      <td>5.000000</td>\n",
       "    </tr>\n",
       "    <tr>\n",
       "      <th>max</th>\n",
       "      <td>1000.000000</td>\n",
       "      <td>22.000000</td>\n",
       "      <td>1.377216e+09</td>\n",
       "      <td>1.402323e+07</td>\n",
       "      <td>5.000000</td>\n",
       "    </tr>\n",
       "  </tbody>\n",
       "</table>\n",
       "</div>"
      ],
      "text/plain": [
       "        Unnamed: 0    nhelpful      unixtime          work       stars\n",
       "count   820.000000  820.000000  8.200000e+02  8.200000e+02  820.000000\n",
       "mean    489.319512    0.229268  1.278911e+09  4.895723e+06    3.844512\n",
       "std     287.641142    1.219949  1.003725e+08  4.732949e+06    1.006951\n",
       "min       1.000000    0.000000 -8.640000e+04  2.710000e+02    0.500000\n",
       "25%     237.750000    0.000000  1.231826e+09  2.172648e+05    3.000000\n",
       "50%     484.500000    0.000000  1.291205e+09  3.338272e+06    4.000000\n",
       "75%     730.750000    0.000000  1.336176e+09  9.468254e+06    5.000000\n",
       "max    1000.000000   22.000000  1.377216e+09  1.402323e+07    5.000000"
      ]
     },
     "execution_count": 33,
     "metadata": {},
     "output_type": "execute_result"
    }
   ],
   "source": [
    "review1.describe()"
   ]
  },
  {
   "cell_type": "code",
   "execution_count": 36,
   "id": "7c481193",
   "metadata": {},
   "outputs": [
    {
     "name": "stderr",
     "output_type": "stream",
     "text": [
      "D:\\ProgramData\\anaconda3\\Lib\\site-packages\\seaborn\\_oldcore.py:1119: FutureWarning: use_inf_as_na option is deprecated and will be removed in a future version. Convert inf values to NaN before operating instead.\n",
      "  with pd.option_context('mode.use_inf_as_na', True):\n"
     ]
    },
    {
     "data": {
      "image/png": "[encoded data removed]",
      "text/plain": [
       "<Figure size 640x480 with 1 Axes>"
      ]
     },
     "metadata": {},
     "output_type": "display_data"
    }
   ],
   "source": [
    "sns.histplot(review1['stars'], bins=5)\n",
    "plt.title('Distribution of Stars')\n",
    "plt.show()\n"
   ]
  },
  {
   "cell_type": "code",
   "execution_count": 37,
   "id": "eb31cdd0",
   "metadata": {},
   "outputs": [
    {
     "ename": "ValueError",
     "evalue": "could not convert string to float: \"Every evening, the brave queen of Persia, Shahrazad, goes into the Sultan's rooms and begins a weave of words, hoping to entice the Sultan to let her live another night so she can continue her story. But Shahrazad has a big problem: She is running out of stories. With a delicate stroke of luck, a cripple girl, Marjan, ventures into the harem with her Aunt to sell various wares. As her Aunt is selling things, Marjan entertains some of the children with a story. Unbeknownst to Marjan, Shahrazad's sister, Dunyazad, has heard her telling the story. Marjan is taken directly to Shahrazad and asked to recount the story. The tale keeps the queen alive another night and the queen decides to keep Marjan.\\n As her helper, Marjan has to go into the city and look for tales that the Sultan has not heard. She has several close calls with the Kathun, the voracious female who rules the harem and who is set against \\nShahrazad. Finally the Sultan proclaims that he will stop killing women every night. Unfortunately, Marjan is still in danger and has to be taken out of the city along with Zaynab, an old woman who assisted Marjan. \\n Since my mom suggested this book to me, I thought that it would be boring. It was quite the opposite. I was intrigued from the very beginning to the end. I loved the byplay between the characters and the thrilling escapes from various places. One thing that didn't please me was the ending. The ending was abrupt; the story just kind of stopped and left you wondering what happened next in Marjan's life. But all in all, this book was amazing and I have read and re-read it many times \"",
     "output_type": "error",
     "traceback": [
      "\u001b[1;31m---------------------------------------------------------------------------\u001b[0m",
      "\u001b[1;31mValueError\u001b[0m                                Traceback (most recent call last)",
      "Cell \u001b[1;32mIn[37], line 1\u001b[0m\n\u001b[1;32m----> 1\u001b[0m correlation_matrix \u001b[38;5;241m=\u001b[39m review1\u001b[38;5;241m.\u001b[39mcorr()\n\u001b[0;32m      2\u001b[0m sns\u001b[38;5;241m.\u001b[39mheatmap(correlation_matrix, annot\u001b[38;5;241m=\u001b[39m\u001b[38;5;28;01mTrue\u001b[39;00m, cmap\u001b[38;5;241m=\u001b[39m\u001b[38;5;124m'\u001b[39m\u001b[38;5;124mcoolwarm\u001b[39m\u001b[38;5;124m'\u001b[39m, fmt\u001b[38;5;241m=\u001b[39m\u001b[38;5;124m\"\u001b[39m\u001b[38;5;124m.2f\u001b[39m\u001b[38;5;124m\"\u001b[39m)\n\u001b[0;32m      3\u001b[0m plt\u001b[38;5;241m.\u001b[39mtitle(\u001b[38;5;124m'\u001b[39m\u001b[38;5;124mCorrelation Matrix\u001b[39m\u001b[38;5;124m'\u001b[39m)\n",
      "File \u001b[1;32m~\\AppData\\Roaming\\Python\\Python311\\site-packages\\pandas\\core\\frame.py:10704\u001b[0m, in \u001b[0;36mDataFrame.corr\u001b[1;34m(self, method, min_periods, numeric_only)\u001b[0m\n\u001b[0;32m  10702\u001b[0m cols \u001b[38;5;241m=\u001b[39m data\u001b[38;5;241m.\u001b[39mcolumns\n\u001b[0;32m  10703\u001b[0m idx \u001b[38;5;241m=\u001b[39m cols\u001b[38;5;241m.\u001b[39mcopy()\n\u001b[1;32m> 10704\u001b[0m mat \u001b[38;5;241m=\u001b[39m data\u001b[38;5;241m.\u001b[39mto_numpy(dtype\u001b[38;5;241m=\u001b[39m\u001b[38;5;28mfloat\u001b[39m, na_value\u001b[38;5;241m=\u001b[39mnp\u001b[38;5;241m.\u001b[39mnan, copy\u001b[38;5;241m=\u001b[39m\u001b[38;5;28;01mFalse\u001b[39;00m)\n\u001b[0;32m  10706\u001b[0m \u001b[38;5;28;01mif\u001b[39;00m method \u001b[38;5;241m==\u001b[39m \u001b[38;5;124m\"\u001b[39m\u001b[38;5;124mpearson\u001b[39m\u001b[38;5;124m\"\u001b[39m:\n\u001b[0;32m  10707\u001b[0m     correl \u001b[38;5;241m=\u001b[39m libalgos\u001b[38;5;241m.\u001b[39mnancorr(mat, minp\u001b[38;5;241m=\u001b[39mmin_periods)\n",
      "File \u001b[1;32m~\\AppData\\Roaming\\Python\\Python311\\site-packages\\pandas\\core\\frame.py:1889\u001b[0m, in \u001b[0;36mDataFrame.to_numpy\u001b[1;34m(self, dtype, copy, na_value)\u001b[0m\n\u001b[0;32m   1887\u001b[0m \u001b[38;5;28;01mif\u001b[39;00m dtype \u001b[38;5;129;01mis\u001b[39;00m \u001b[38;5;129;01mnot\u001b[39;00m \u001b[38;5;28;01mNone\u001b[39;00m:\n\u001b[0;32m   1888\u001b[0m     dtype \u001b[38;5;241m=\u001b[39m np\u001b[38;5;241m.\u001b[39mdtype(dtype)\n\u001b[1;32m-> 1889\u001b[0m result \u001b[38;5;241m=\u001b[39m \u001b[38;5;28mself\u001b[39m\u001b[38;5;241m.\u001b[39m_mgr\u001b[38;5;241m.\u001b[39mas_array(dtype\u001b[38;5;241m=\u001b[39mdtype, copy\u001b[38;5;241m=\u001b[39mcopy, na_value\u001b[38;5;241m=\u001b[39mna_value)\n\u001b[0;32m   1890\u001b[0m \u001b[38;5;28;01mif\u001b[39;00m result\u001b[38;5;241m.\u001b[39mdtype \u001b[38;5;129;01mis\u001b[39;00m \u001b[38;5;129;01mnot\u001b[39;00m dtype:\n\u001b[0;32m   1891\u001b[0m     result \u001b[38;5;241m=\u001b[39m np\u001b[38;5;241m.\u001b[39marray(result, dtype\u001b[38;5;241m=\u001b[39mdtype, copy\u001b[38;5;241m=\u001b[39m\u001b[38;5;28;01mFalse\u001b[39;00m)\n",
      "File \u001b[1;32m~\\AppData\\Roaming\\Python\\Python311\\site-packages\\pandas\\core\\internals\\managers.py:1656\u001b[0m, in \u001b[0;36mBlockManager.as_array\u001b[1;34m(self, dtype, copy, na_value)\u001b[0m\n\u001b[0;32m   1654\u001b[0m         arr\u001b[38;5;241m.\u001b[39mflags\u001b[38;5;241m.\u001b[39mwriteable \u001b[38;5;241m=\u001b[39m \u001b[38;5;28;01mFalse\u001b[39;00m\n\u001b[0;32m   1655\u001b[0m \u001b[38;5;28;01melse\u001b[39;00m:\n\u001b[1;32m-> 1656\u001b[0m     arr \u001b[38;5;241m=\u001b[39m \u001b[38;5;28mself\u001b[39m\u001b[38;5;241m.\u001b[39m_interleave(dtype\u001b[38;5;241m=\u001b[39mdtype, na_value\u001b[38;5;241m=\u001b[39mna_value)\n\u001b[0;32m   1657\u001b[0m     \u001b[38;5;66;03m# The underlying data was copied within _interleave, so no need\u001b[39;00m\n\u001b[0;32m   1658\u001b[0m     \u001b[38;5;66;03m# to further copy if copy=True or setting na_value\u001b[39;00m\n\u001b[0;32m   1660\u001b[0m \u001b[38;5;28;01mif\u001b[39;00m na_value \u001b[38;5;129;01mis\u001b[39;00m lib\u001b[38;5;241m.\u001b[39mno_default:\n",
      "File \u001b[1;32m~\\AppData\\Roaming\\Python\\Python311\\site-packages\\pandas\\core\\internals\\managers.py:1715\u001b[0m, in \u001b[0;36mBlockManager._interleave\u001b[1;34m(self, dtype, na_value)\u001b[0m\n\u001b[0;32m   1713\u001b[0m     \u001b[38;5;28;01melse\u001b[39;00m:\n\u001b[0;32m   1714\u001b[0m         arr \u001b[38;5;241m=\u001b[39m blk\u001b[38;5;241m.\u001b[39mget_values(dtype)\n\u001b[1;32m-> 1715\u001b[0m     result[rl\u001b[38;5;241m.\u001b[39mindexer] \u001b[38;5;241m=\u001b[39m arr\n\u001b[0;32m   1716\u001b[0m     itemmask[rl\u001b[38;5;241m.\u001b[39mindexer] \u001b[38;5;241m=\u001b[39m \u001b[38;5;241m1\u001b[39m\n\u001b[0;32m   1718\u001b[0m \u001b[38;5;28;01mif\u001b[39;00m \u001b[38;5;129;01mnot\u001b[39;00m itemmask\u001b[38;5;241m.\u001b[39mall():\n",
      "\u001b[1;31mValueError\u001b[0m: could not convert string to float: \"Every evening, the brave queen of Persia, Shahrazad, goes into the Sultan's rooms and begins a weave of words, hoping to entice the Sultan to let her live another night so she can continue her story. But Shahrazad has a big problem: She is running out of stories. With a delicate stroke of luck, a cripple girl, Marjan, ventures into the harem with her Aunt to sell various wares. As her Aunt is selling things, Marjan entertains some of the children with a story. Unbeknownst to Marjan, Shahrazad's sister, Dunyazad, has heard her telling the story. Marjan is taken directly to Shahrazad and asked to recount the story. The tale keeps the queen alive another night and the queen decides to keep Marjan.\\n As her helper, Marjan has to go into the city and look for tales that the Sultan has not heard. She has several close calls with the Kathun, the voracious female who rules the harem and who is set against \\nShahrazad. Finally the Sultan proclaims that he will stop killing women every night. Unfortunately, Marjan is still in danger and has to be taken out of the city along with Zaynab, an old woman who assisted Marjan. \\n Since my mom suggested this book to me, I thought that it would be boring. It was quite the opposite. I was intrigued from the very beginning to the end. I loved the byplay between the characters and the thrilling escapes from various places. One thing that didn't please me was the ending. The ending was abrupt; the story just kind of stopped and left you wondering what happened next in Marjan's life. But all in all, this book was amazing and I have read and re-read it many times \""
     ]
    }
   ],
   "source": [
    "correlation_matrix = review1.corr()\n",
    "sns.heatmap(correlation_matrix, annot=True, cmap='coolwarm', fmt=\".2f\")\n",
    "plt.title('Correlation Matrix')\n",
    "plt.show()\n"
   ]
  },
  {
   "cell_type": "code",
   "execution_count": 38,
   "id": "48242eb5",
   "metadata": {},
   "outputs": [
    {
     "data": {
      "text/plain": [
       "(-1.0, 8.0)"
      ]
     },
     "execution_count": 38,
     "metadata": {},
     "output_type": "execute_result"
    },
    {
     "data": {
      "image/png": "[encoded data removed]",
      "text/plain": [
       "<Figure size 640x480 with 1 Axes>"
      ]
     },
     "metadata": {},
     "output_type": "display_data"
    }
   ],
   "source": [
    "graph=sns.countplot(x='nhelpful',data=review1)\n",
    "graph.set_xlim(-1,8)\n"
   ]
  },
  {
   "cell_type": "code",
   "execution_count": 39,
   "id": "b3f53a79",
   "metadata": {},
   "outputs": [],
   "source": [
    "df = review1.copy()\n",
    "df.loc[:, 'unixtime'] = pd.to_datetime(df['unixtime'], unit='s')"
   ]
  },
  {
   "cell_type": "code",
   "execution_count": 40,
   "id": "f771d993",
   "metadata": {},
   "outputs": [
    {
     "name": "stderr",
     "output_type": "stream",
     "text": [
      "D:\\ProgramData\\anaconda3\\Lib\\site-packages\\seaborn\\_oldcore.py:1119: FutureWarning: use_inf_as_na option is deprecated and will be removed in a future version. Convert inf values to NaN before operating instead.\n",
      "  with pd.option_context('mode.use_inf_as_na', True):\n"
     ]
    },
    {
     "data": {
      "image/png": "[encoded data removed]",
      "text/plain": [
       "<Figure size 1200x600 with 1 Axes>"
      ]
     },
     "metadata": {},
     "output_type": "display_data"
    }
   ],
   "source": [
    "plt.figure(figsize=(12, 6))\n",
    "sns.histplot(df['unixtime'], bins=20, kde=False, color='skyblue')\n",
    "plt.title('Histogram for unixtime')\n",
    "plt.xlabel('Unix Time')\n",
    "plt.ylabel('Frequency')\n",
    "plt.show()\n"
   ]
  },
  {
   "cell_type": "code",
   "execution_count": 41,
   "id": "e26d5dbf",
   "metadata": {},
   "outputs": [],
   "source": [
    "# The reviews taken were mostly of 2005 and 2015 but a very few were of 1970s."
   ]
  },
  {
   "cell_type": "code",
   "execution_count": 42,
   "id": "f2bb8dc3",
   "metadata": {},
   "outputs": [
    {
     "name": "stderr",
     "output_type": "stream",
     "text": [
      "D:\\ProgramData\\anaconda3\\Lib\\site-packages\\seaborn\\_oldcore.py:1119: FutureWarning: use_inf_as_na option is deprecated and will be removed in a future version. Convert inf values to NaN before operating instead.\n",
      "  with pd.option_context('mode.use_inf_as_na', True):\n"
     ]
    },
    {
     "data": {
      "image/png": "[encoded data removed]",
      "text/plain": [
       "<Figure size 1200x600 with 1 Axes>"
      ]
     },
     "metadata": {},
     "output_type": "display_data"
    }
   ],
   "source": [
    "plt.figure(figsize=(12, 6))\n",
    "sns.histplot(df['work'], bins=20, color='green', kde=False)\n",
    "plt.title('Histogram for Work')\n",
    "plt.xlabel('Work')\n",
    "plt.ylabel('Frequency')\n",
    "plt.show()"
   ]
  },
  {
   "cell_type": "code",
   "execution_count": 43,
   "id": "380d7f8e",
   "metadata": {},
   "outputs": [
    {
     "data": {
      "image/png": "[encoded data removed]",
      "text/plain": [
       "<Figure size 1200x600 with 1 Axes>"
      ]
     },
     "metadata": {},
     "output_type": "display_data"
    }
   ],
   "source": [
    "plt.figure(figsize=(12, 6))\n",
    "sns.scatterplot(x='work', y='stars', data=df, color='blue')\n",
    "plt.title('Scatter Plot: Work vs. Stars')\n",
    "plt.xlabel('Work')\n",
    "plt.ylabel('Stars')\n",
    "plt.show()"
   ]
  },
  {
   "cell_type": "code",
   "execution_count": 44,
   "id": "b8931b62",
   "metadata": {},
   "outputs": [],
   "source": [
    "# The scatter plot of work and star is uniform through the graph, hence suggesting no suggestion between them i.e. suggeseting discrete uniform distribution between them."
   ]
  },
  {
   "cell_type": "code",
   "execution_count": 45,
   "id": "60c50962",
   "metadata": {},
   "outputs": [
    {
     "data": {
      "text/html": [
       "<div>\n",
       "<style scoped>\n",
       "    .dataframe tbody tr th:only-of-type {\n",
       "        vertical-align: middle;\n",
       "    }\n",
       "\n",
       "    .dataframe tbody tr th {\n",
       "        vertical-align: top;\n",
       "    }\n",
       "\n",
       "    .dataframe thead th {\n",
       "        text-align: right;\n",
       "    }\n",
       "</style>\n",
       "<table border=\"1\" class=\"dataframe\">\n",
       "  <thead>\n",
       "    <tr style=\"text-align: right;\">\n",
       "      <th></th>\n",
       "      <th>Unnamed: 0</th>\n",
       "      <th>comment</th>\n",
       "      <th>nhelpful</th>\n",
       "      <th>unixtime</th>\n",
       "      <th>work</th>\n",
       "      <th>flags</th>\n",
       "      <th>user</th>\n",
       "      <th>stars</th>\n",
       "      <th>time</th>\n",
       "    </tr>\n",
       "  </thead>\n",
       "  <tbody>\n",
       "    <tr>\n",
       "      <th>1</th>\n",
       "      <td>1</td>\n",
       "      <td>Every evening, the brave queen of Persia, Shah...</td>\n",
       "      <td>0.0</td>\n",
       "      <td>1.332288e+09</td>\n",
       "      <td>73960.0</td>\n",
       "      <td>[]</td>\n",
       "      <td>Elizabeth.Wong98</td>\n",
       "      <td>4.5</td>\n",
       "      <td>Mar 21, 2012</td>\n",
       "    </tr>\n",
       "    <tr>\n",
       "      <th>2</th>\n",
       "      <td>2</td>\n",
       "      <td>Its the 1983-84 school year and Edward Zanni o...</td>\n",
       "      <td>0.0</td>\n",
       "      <td>1.253405e+09</td>\n",
       "      <td>69413.0</td>\n",
       "      <td>[]</td>\n",
       "      <td>rivkat</td>\n",
       "      <td>3.0</td>\n",
       "      <td>Sep 20, 2009</td>\n",
       "    </tr>\n",
       "    <tr>\n",
       "      <th>3</th>\n",
       "      <td>3</td>\n",
       "      <td>I became privy to this book, when another auth...</td>\n",
       "      <td>0.0</td>\n",
       "      <td>1.299888e+09</td>\n",
       "      <td>9523995.0</td>\n",
       "      <td>[]</td>\n",
       "      <td>suz.haugland</td>\n",
       "      <td>4.0</td>\n",
       "      <td>Mar 12, 2011</td>\n",
       "    </tr>\n",
       "    <tr>\n",
       "      <th>4</th>\n",
       "      <td>4</td>\n",
       "      <td>.</td>\n",
       "      <td>0.0</td>\n",
       "      <td>1.327277e+09</td>\n",
       "      <td>368228.0</td>\n",
       "      <td>[]</td>\n",
       "      <td>amoskovacs</td>\n",
       "      <td>4.0</td>\n",
       "      <td>Jan 23, 2012</td>\n",
       "    </tr>\n",
       "    <tr>\n",
       "      <th>5</th>\n",
       "      <td>5</td>\n",
       "      <td>This is a tremendous story of a freed woman an...</td>\n",
       "      <td>0.0</td>\n",
       "      <td>1.329005e+09</td>\n",
       "      <td>11243828.0</td>\n",
       "      <td>[]</td>\n",
       "      <td>CandyH</td>\n",
       "      <td>4.0</td>\n",
       "      <td>Feb 12, 2012</td>\n",
       "    </tr>\n",
       "  </tbody>\n",
       "</table>\n",
       "</div>"
      ],
      "text/plain": [
       "   Unnamed: 0                                            comment  nhelpful  \\\n",
       "1           1  Every evening, the brave queen of Persia, Shah...       0.0   \n",
       "2           2  Its the 1983-84 school year and Edward Zanni o...       0.0   \n",
       "3           3  I became privy to this book, when another auth...       0.0   \n",
       "4           4                                              .           0.0   \n",
       "5           5  This is a tremendous story of a freed woman an...       0.0   \n",
       "\n",
       "       unixtime        work flags              user  stars          time  \n",
       "1  1.332288e+09     73960.0    []  Elizabeth.Wong98    4.5  Mar 21, 2012  \n",
       "2  1.253405e+09     69413.0    []            rivkat    3.0  Sep 20, 2009  \n",
       "3  1.299888e+09   9523995.0    []      suz.haugland    4.0  Mar 12, 2011  \n",
       "4  1.327277e+09    368228.0    []        amoskovacs    4.0  Jan 23, 2012  \n",
       "5  1.329005e+09  11243828.0    []            CandyH    4.0  Feb 12, 2012  "
      ]
     },
     "execution_count": 45,
     "metadata": {},
     "output_type": "execute_result"
    }
   ],
   "source": [
    "\n",
    "review1.head()"
   ]
  },
  {
   "cell_type": "code",
   "execution_count": 46,
   "id": "192f944b",
   "metadata": {},
   "outputs": [
    {
     "data": {
      "text/html": [
       "<div>\n",
       "<style scoped>\n",
       "    .dataframe tbody tr th:only-of-type {\n",
       "        vertical-align: middle;\n",
       "    }\n",
       "\n",
       "    .dataframe tbody tr th {\n",
       "        vertical-align: top;\n",
       "    }\n",
       "\n",
       "    .dataframe thead th {\n",
       "        text-align: right;\n",
       "    }\n",
       "</style>\n",
       "<table border=\"1\" class=\"dataframe\">\n",
       "  <thead>\n",
       "    <tr style=\"text-align: right;\">\n",
       "      <th></th>\n",
       "      <th>comment</th>\n",
       "      <th>nhelpful</th>\n",
       "      <th>work</th>\n",
       "      <th>flags</th>\n",
       "      <th>user</th>\n",
       "      <th>stars</th>\n",
       "    </tr>\n",
       "  </thead>\n",
       "  <tbody>\n",
       "    <tr>\n",
       "      <th>1</th>\n",
       "      <td>Every evening, the brave queen of Persia, Shah...</td>\n",
       "      <td>0.0</td>\n",
       "      <td>73960.0</td>\n",
       "      <td>[]</td>\n",
       "      <td>Elizabeth.Wong98</td>\n",
       "      <td>4.5</td>\n",
       "    </tr>\n",
       "    <tr>\n",
       "      <th>2</th>\n",
       "      <td>Its the 1983-84 school year and Edward Zanni o...</td>\n",
       "      <td>0.0</td>\n",
       "      <td>69413.0</td>\n",
       "      <td>[]</td>\n",
       "      <td>rivkat</td>\n",
       "      <td>3.0</td>\n",
       "    </tr>\n",
       "    <tr>\n",
       "      <th>3</th>\n",
       "      <td>I became privy to this book, when another auth...</td>\n",
       "      <td>0.0</td>\n",
       "      <td>9523995.0</td>\n",
       "      <td>[]</td>\n",
       "      <td>suz.haugland</td>\n",
       "      <td>4.0</td>\n",
       "    </tr>\n",
       "    <tr>\n",
       "      <th>4</th>\n",
       "      <td>.</td>\n",
       "      <td>0.0</td>\n",
       "      <td>368228.0</td>\n",
       "      <td>[]</td>\n",
       "      <td>amoskovacs</td>\n",
       "      <td>4.0</td>\n",
       "    </tr>\n",
       "    <tr>\n",
       "      <th>5</th>\n",
       "      <td>This is a tremendous story of a freed woman an...</td>\n",
       "      <td>0.0</td>\n",
       "      <td>11243828.0</td>\n",
       "      <td>[]</td>\n",
       "      <td>CandyH</td>\n",
       "      <td>4.0</td>\n",
       "    </tr>\n",
       "  </tbody>\n",
       "</table>\n",
       "</div>"
      ],
      "text/plain": [
       "                                             comment  nhelpful        work  \\\n",
       "1  Every evening, the brave queen of Persia, Shah...       0.0     73960.0   \n",
       "2  Its the 1983-84 school year and Edward Zanni o...       0.0     69413.0   \n",
       "3  I became privy to this book, when another auth...       0.0   9523995.0   \n",
       "4                                              .           0.0    368228.0   \n",
       "5  This is a tremendous story of a freed woman an...       0.0  11243828.0   \n",
       "\n",
       "  flags              user  stars  \n",
       "1    []  Elizabeth.Wong98    4.5  \n",
       "2    []            rivkat    3.0  \n",
       "3    []      suz.haugland    4.0  \n",
       "4    []        amoskovacs    4.0  \n",
       "5    []            CandyH    4.0  "
      ]
     },
     "execution_count": 46,
     "metadata": {},
     "output_type": "execute_result"
    }
   ],
   "source": [
    "review2=review1.drop(['unixtime','time','Unnamed: 0'],axis=1)\n",
    "review2.head()"
   ]
  },
  {
   "cell_type": "code",
   "execution_count": 47,
   "id": "a4ea2c3f",
   "metadata": {},
   "outputs": [
    {
     "data": {
      "text/plain": [
       "nhelpful\n",
       "0.0     734\n",
       "1.0      58\n",
       "2.0      14\n",
       "5.0       4\n",
       "3.0       3\n",
       "6.0       2\n",
       "7.0       1\n",
       "4.0       1\n",
       "16.0      1\n",
       "22.0      1\n",
       "12.0      1\n",
       "Name: count, dtype: int64"
      ]
     },
     "execution_count": 47,
     "metadata": {},
     "output_type": "execute_result"
    }
   ],
   "source": [
    "nhelpful_value=review2['nhelpful'].value_counts()\n",
    "nhelpful_value"
   ]
  },
  {
   "cell_type": "code",
   "execution_count": 48,
   "id": "e90874f8",
   "metadata": {},
   "outputs": [
    {
     "data": {
      "text/plain": [
       "flags\n",
       "[]                           807\n",
       "['not_a_review']              10\n",
       "['abuse']                      2\n",
       "['abuse', 'not_a_review']      1\n",
       "Name: count, dtype: int64"
      ]
     },
     "execution_count": 48,
     "metadata": {},
     "output_type": "execute_result"
    }
   ],
   "source": [
    "\n",
    "flags_value=review2['flags'].value_counts()\n",
    "flags_value"
   ]
  },
  {
   "cell_type": "code",
   "execution_count": 49,
   "id": "a902de84",
   "metadata": {},
   "outputs": [
    {
     "data": {
      "text/html": [
       "<div>\n",
       "<style scoped>\n",
       "    .dataframe tbody tr th:only-of-type {\n",
       "        vertical-align: middle;\n",
       "    }\n",
       "\n",
       "    .dataframe tbody tr th {\n",
       "        vertical-align: top;\n",
       "    }\n",
       "\n",
       "    .dataframe thead th {\n",
       "        text-align: right;\n",
       "    }\n",
       "</style>\n",
       "<table border=\"1\" class=\"dataframe\">\n",
       "  <thead>\n",
       "    <tr style=\"text-align: right;\">\n",
       "      <th></th>\n",
       "      <th>comment</th>\n",
       "      <th>nhelpful</th>\n",
       "      <th>work</th>\n",
       "      <th>flags</th>\n",
       "      <th>user</th>\n",
       "      <th>stars</th>\n",
       "    </tr>\n",
       "  </thead>\n",
       "  <tbody>\n",
       "    <tr>\n",
       "      <th>1</th>\n",
       "      <td>Every evening, the brave queen of Persia, Shah...</td>\n",
       "      <td>0.0</td>\n",
       "      <td>73960.0</td>\n",
       "      <td>[]</td>\n",
       "      <td>Elizabeth.Wong98</td>\n",
       "      <td>4.5</td>\n",
       "    </tr>\n",
       "    <tr>\n",
       "      <th>2</th>\n",
       "      <td>Its the 1983-84 school year and Edward Zanni o...</td>\n",
       "      <td>0.0</td>\n",
       "      <td>69413.0</td>\n",
       "      <td>[]</td>\n",
       "      <td>rivkat</td>\n",
       "      <td>3.0</td>\n",
       "    </tr>\n",
       "    <tr>\n",
       "      <th>3</th>\n",
       "      <td>I became privy to this book, when another auth...</td>\n",
       "      <td>0.0</td>\n",
       "      <td>9523995.0</td>\n",
       "      <td>[]</td>\n",
       "      <td>suz.haugland</td>\n",
       "      <td>4.0</td>\n",
       "    </tr>\n",
       "    <tr>\n",
       "      <th>4</th>\n",
       "      <td>.</td>\n",
       "      <td>0.0</td>\n",
       "      <td>368228.0</td>\n",
       "      <td>[]</td>\n",
       "      <td>amoskovacs</td>\n",
       "      <td>4.0</td>\n",
       "    </tr>\n",
       "    <tr>\n",
       "      <th>5</th>\n",
       "      <td>This is a tremendous story of a freed woman an...</td>\n",
       "      <td>0.0</td>\n",
       "      <td>11243828.0</td>\n",
       "      <td>[]</td>\n",
       "      <td>CandyH</td>\n",
       "      <td>4.0</td>\n",
       "    </tr>\n",
       "    <tr>\n",
       "      <th>...</th>\n",
       "      <td>...</td>\n",
       "      <td>...</td>\n",
       "      <td>...</td>\n",
       "      <td>...</td>\n",
       "      <td>...</td>\n",
       "      <td>...</td>\n",
       "    </tr>\n",
       "    <tr>\n",
       "      <th>994</th>\n",
       "      <td>A miscellany of articles, poems, interviews an...</td>\n",
       "      <td>0.0</td>\n",
       "      <td>791313.0</td>\n",
       "      <td>[]</td>\n",
       "      <td>gibbon</td>\n",
       "      <td>4.0</td>\n",
       "    </tr>\n",
       "    <tr>\n",
       "      <th>995</th>\n",
       "      <td>Chevalier's Lady and the Unicorn centers aroun...</td>\n",
       "      <td>0.0</td>\n",
       "      <td>2987.0</td>\n",
       "      <td>[]</td>\n",
       "      <td>Stewartry</td>\n",
       "      <td>4.0</td>\n",
       "    </tr>\n",
       "    <tr>\n",
       "      <th>996</th>\n",
       "      <td>With an abundance of excellent books about the...</td>\n",
       "      <td>1.0</td>\n",
       "      <td>5474830.0</td>\n",
       "      <td>[]</td>\n",
       "      <td>khuggard</td>\n",
       "      <td>2.0</td>\n",
       "    </tr>\n",
       "    <tr>\n",
       "      <th>999</th>\n",
       "      <td>In the various discussions/writings about the ...</td>\n",
       "      <td>0.0</td>\n",
       "      <td>245554.0</td>\n",
       "      <td>[]</td>\n",
       "      <td>cyderry</td>\n",
       "      <td>2.5</td>\n",
       "    </tr>\n",
       "    <tr>\n",
       "      <th>1000</th>\n",
       "      <td>The Short and Sweet of It\\nA Pilgrim takes a h...</td>\n",
       "      <td>2.0</td>\n",
       "      <td>25918.0</td>\n",
       "      <td>[]</td>\n",
       "      <td>EclecticEccentric</td>\n",
       "      <td>4.5</td>\n",
       "    </tr>\n",
       "  </tbody>\n",
       "</table>\n",
       "<p>809 rows × 6 columns</p>\n",
       "</div>"
      ],
      "text/plain": [
       "                                                comment  nhelpful        work  \\\n",
       "1     Every evening, the brave queen of Persia, Shah...       0.0     73960.0   \n",
       "2     Its the 1983-84 school year and Edward Zanni o...       0.0     69413.0   \n",
       "3     I became privy to this book, when another auth...       0.0   9523995.0   \n",
       "4                                                 .           0.0    368228.0   \n",
       "5     This is a tremendous story of a freed woman an...       0.0  11243828.0   \n",
       "...                                                 ...       ...         ...   \n",
       "994   A miscellany of articles, poems, interviews an...       0.0    791313.0   \n",
       "995   Chevalier's Lady and the Unicorn centers aroun...       0.0      2987.0   \n",
       "996   With an abundance of excellent books about the...       1.0   5474830.0   \n",
       "999   In the various discussions/writings about the ...       0.0    245554.0   \n",
       "1000  The Short and Sweet of It\\nA Pilgrim takes a h...       2.0     25918.0   \n",
       "\n",
       "     flags               user  stars  \n",
       "1       []   Elizabeth.Wong98    4.5  \n",
       "2       []             rivkat    3.0  \n",
       "3       []       suz.haugland    4.0  \n",
       "4       []         amoskovacs    4.0  \n",
       "5       []             CandyH    4.0  \n",
       "...    ...                ...    ...  \n",
       "994     []             gibbon    4.0  \n",
       "995     []          Stewartry    4.0  \n",
       "996     []           khuggard    2.0  \n",
       "999     []            cyderry    2.5  \n",
       "1000    []  EclecticEccentric    4.5  \n",
       "\n",
       "[809 rows x 6 columns]"
      ]
     },
     "execution_count": 49,
     "metadata": {},
     "output_type": "execute_result"
    }
   ],
   "source": [
    "\n",
    "review_final=review2.loc[(review2['flags'] == '[]') | (review2['flags'] == \"['abuse']\")]\n",
    "review_final"
   ]
  },
  {
   "cell_type": "code",
   "execution_count": 50,
   "id": "3f131e05",
   "metadata": {},
   "outputs": [],
   "source": [
    "review_final.to_csv('reviews_final.csv')\n"
   ]
  },
  {
   "cell_type": "code",
   "execution_count": 51,
   "id": "3d99abfb",
   "metadata": {},
   "outputs": [
    {
     "data": {
      "text/plain": [
       "work\n",
       "8488.0       2\n",
       "9279041.0    2\n",
       "4921.0       2\n",
       "2237.0       2\n",
       "16195.0      2\n",
       "            ..\n",
       "2827447.0    1\n",
       "1252086.0    1\n",
       "15223.0      1\n",
       "805718.0     1\n",
       "25918.0      1\n",
       "Name: count, Length: 795, dtype: int64"
      ]
     },
     "execution_count": 51,
     "metadata": {},
     "output_type": "execute_result"
    }
   ],
   "source": [
    "work_value=review_final['work'].value_counts()\n",
    "work_value"
   ]
  },
  {
   "cell_type": "code",
   "execution_count": 52,
   "id": "cf5b249a",
   "metadata": {},
   "outputs": [],
   "source": [
    "review_final=pd.read_csv(\"reviews_final.csv\")"
   ]
  },
  {
   "cell_type": "code",
   "execution_count": 53,
   "id": "0f215e3a",
   "metadata": {},
   "outputs": [
    {
     "data": {
      "image/png": "[encoded data removed]",
      "text/plain": [
       "<Figure size 1200x800 with 1 Axes>"
      ]
     },
     "metadata": {},
     "output_type": "display_data"
    }
   ],
   "source": [
    "review_final['word_count'] = review_final['comment'].apply(lambda x: len(str(x).split()))\n",
    "plt.figure(figsize=(12, 8))\n",
    "plt.hist(review_final['word_count'], bins=50, range=(0, 1000), edgecolor='black')\n",
    "plt.title('Word Count Distribution for book descriptions')\n",
    "plt.xlabel('Word Count')\n",
    "plt.ylabel('Frequency')\n",
    "plt.show()"
   ]
  },
  {
   "cell_type": "code",
   "execution_count": 54,
   "id": "1039f5ff",
   "metadata": {},
   "outputs": [],
   "source": [
    "# The graph shows that the word count for each review is mostly between 1 to 100 and the count decreases non linearly as the word count increases.\n"
   ]
  },
  {
   "cell_type": "code",
   "execution_count": 55,
   "id": "cb0d62fd",
   "metadata": {},
   "outputs": [
    {
     "data": {
      "text/html": [
       "<div>\n",
       "<style scoped>\n",
       "    .dataframe tbody tr th:only-of-type {\n",
       "        vertical-align: middle;\n",
       "    }\n",
       "\n",
       "    .dataframe tbody tr th {\n",
       "        vertical-align: top;\n",
       "    }\n",
       "\n",
       "    .dataframe thead th {\n",
       "        text-align: right;\n",
       "    }\n",
       "</style>\n",
       "<table border=\"1\" class=\"dataframe\">\n",
       "  <thead>\n",
       "    <tr style=\"text-align: right;\">\n",
       "      <th></th>\n",
       "      <th>comment</th>\n",
       "      <th>nhelpful</th>\n",
       "      <th>work</th>\n",
       "      <th>flags</th>\n",
       "      <th>user</th>\n",
       "      <th>stars</th>\n",
       "    </tr>\n",
       "  </thead>\n",
       "  <tbody>\n",
       "    <tr>\n",
       "      <th>1</th>\n",
       "      <td>Every evening, the brave queen of Persia, Shah...</td>\n",
       "      <td>0.0</td>\n",
       "      <td>73960.0</td>\n",
       "      <td>[]</td>\n",
       "      <td>Elizabeth.Wong98</td>\n",
       "      <td>4.5</td>\n",
       "    </tr>\n",
       "    <tr>\n",
       "      <th>2</th>\n",
       "      <td>Its the 1983-84 school year and Edward Zanni o...</td>\n",
       "      <td>0.0</td>\n",
       "      <td>69413.0</td>\n",
       "      <td>[]</td>\n",
       "      <td>rivkat</td>\n",
       "      <td>3.0</td>\n",
       "    </tr>\n",
       "    <tr>\n",
       "      <th>3</th>\n",
       "      <td>I became privy to this book, when another auth...</td>\n",
       "      <td>0.0</td>\n",
       "      <td>9523995.0</td>\n",
       "      <td>[]</td>\n",
       "      <td>suz.haugland</td>\n",
       "      <td>4.0</td>\n",
       "    </tr>\n",
       "    <tr>\n",
       "      <th>4</th>\n",
       "      <td>.</td>\n",
       "      <td>0.0</td>\n",
       "      <td>368228.0</td>\n",
       "      <td>[]</td>\n",
       "      <td>amoskovacs</td>\n",
       "      <td>4.0</td>\n",
       "    </tr>\n",
       "    <tr>\n",
       "      <th>5</th>\n",
       "      <td>This is a tremendous story of a freed woman an...</td>\n",
       "      <td>0.0</td>\n",
       "      <td>11243828.0</td>\n",
       "      <td>[]</td>\n",
       "      <td>CandyH</td>\n",
       "      <td>4.0</td>\n",
       "    </tr>\n",
       "    <tr>\n",
       "      <th>...</th>\n",
       "      <td>...</td>\n",
       "      <td>...</td>\n",
       "      <td>...</td>\n",
       "      <td>...</td>\n",
       "      <td>...</td>\n",
       "      <td>...</td>\n",
       "    </tr>\n",
       "    <tr>\n",
       "      <th>994</th>\n",
       "      <td>A miscellany of articles, poems, interviews an...</td>\n",
       "      <td>0.0</td>\n",
       "      <td>791313.0</td>\n",
       "      <td>[]</td>\n",
       "      <td>gibbon</td>\n",
       "      <td>4.0</td>\n",
       "    </tr>\n",
       "    <tr>\n",
       "      <th>995</th>\n",
       "      <td>Chevalier's Lady and the Unicorn centers aroun...</td>\n",
       "      <td>0.0</td>\n",
       "      <td>2987.0</td>\n",
       "      <td>[]</td>\n",
       "      <td>Stewartry</td>\n",
       "      <td>4.0</td>\n",
       "    </tr>\n",
       "    <tr>\n",
       "      <th>996</th>\n",
       "      <td>With an abundance of excellent books about the...</td>\n",
       "      <td>1.0</td>\n",
       "      <td>5474830.0</td>\n",
       "      <td>[]</td>\n",
       "      <td>khuggard</td>\n",
       "      <td>2.0</td>\n",
       "    </tr>\n",
       "    <tr>\n",
       "      <th>999</th>\n",
       "      <td>In the various discussions/writings about the ...</td>\n",
       "      <td>0.0</td>\n",
       "      <td>245554.0</td>\n",
       "      <td>[]</td>\n",
       "      <td>cyderry</td>\n",
       "      <td>2.5</td>\n",
       "    </tr>\n",
       "    <tr>\n",
       "      <th>1000</th>\n",
       "      <td>The Short and Sweet of It\\nA Pilgrim takes a h...</td>\n",
       "      <td>2.0</td>\n",
       "      <td>25918.0</td>\n",
       "      <td>[]</td>\n",
       "      <td>EclecticEccentric</td>\n",
       "      <td>4.5</td>\n",
       "    </tr>\n",
       "  </tbody>\n",
       "</table>\n",
       "<p>820 rows × 6 columns</p>\n",
       "</div>"
      ],
      "text/plain": [
       "                                                comment  nhelpful        work  \\\n",
       "1     Every evening, the brave queen of Persia, Shah...       0.0     73960.0   \n",
       "2     Its the 1983-84 school year and Edward Zanni o...       0.0     69413.0   \n",
       "3     I became privy to this book, when another auth...       0.0   9523995.0   \n",
       "4                                                 .           0.0    368228.0   \n",
       "5     This is a tremendous story of a freed woman an...       0.0  11243828.0   \n",
       "...                                                 ...       ...         ...   \n",
       "994   A miscellany of articles, poems, interviews an...       0.0    791313.0   \n",
       "995   Chevalier's Lady and the Unicorn centers aroun...       0.0      2987.0   \n",
       "996   With an abundance of excellent books about the...       1.0   5474830.0   \n",
       "999   In the various discussions/writings about the ...       0.0    245554.0   \n",
       "1000  The Short and Sweet of It\\nA Pilgrim takes a h...       2.0     25918.0   \n",
       "\n",
       "     flags               user  stars  \n",
       "1       []   Elizabeth.Wong98    4.5  \n",
       "2       []             rivkat    3.0  \n",
       "3       []       suz.haugland    4.0  \n",
       "4       []         amoskovacs    4.0  \n",
       "5       []             CandyH    4.0  \n",
       "...    ...                ...    ...  \n",
       "994     []             gibbon    4.0  \n",
       "995     []          Stewartry    4.0  \n",
       "996     []           khuggard    2.0  \n",
       "999     []            cyderry    2.5  \n",
       "1000    []  EclecticEccentric    4.5  \n",
       "\n",
       "[820 rows x 6 columns]"
      ]
     },
     "execution_count": 55,
     "metadata": {},
     "output_type": "execute_result"
    }
   ],
   "source": [
    "review_train=review2[~(review2['flags'].isin([['not_a_review'], ['abuse', 'not_a_review']]))]\n",
    "review_train"
   ]
  },
  {
   "cell_type": "code",
   "execution_count": 57,
   "id": "edda621d",
   "metadata": {},
   "outputs": [],
   "source": [
    "df = review_final\n",
    "df=df[1:]\n",
    "df = df.reset_index()"
   ]
  },
  {
   "cell_type": "markdown",
   "id": "4923cbbb",
   "metadata": {},
   "source": [
    "## Feature Extraction and NLP"
   ]
  },
  {
   "cell_type": "code",
   "execution_count": 75,
   "id": "b03ba1f5",
   "metadata": {},
   "outputs": [
    {
     "data": {
      "text/html": [
       "<div>\n",
       "<style scoped>\n",
       "    .dataframe tbody tr th:only-of-type {\n",
       "        vertical-align: middle;\n",
       "    }\n",
       "\n",
       "    .dataframe tbody tr th {\n",
       "        vertical-align: top;\n",
       "    }\n",
       "\n",
       "    .dataframe thead th {\n",
       "        text-align: right;\n",
       "    }\n",
       "</style>\n",
       "<table border=\"1\" class=\"dataframe\">\n",
       "  <thead>\n",
       "    <tr style=\"text-align: right;\">\n",
       "      <th></th>\n",
       "      <th>index</th>\n",
       "      <th>Unnamed: 0</th>\n",
       "      <th>comment</th>\n",
       "      <th>nhelpful</th>\n",
       "      <th>work</th>\n",
       "      <th>flags</th>\n",
       "      <th>user</th>\n",
       "      <th>stars</th>\n",
       "      <th>word_count</th>\n",
       "      <th>cleaned</th>\n",
       "    </tr>\n",
       "  </thead>\n",
       "  <tbody>\n",
       "    <tr>\n",
       "      <th>0</th>\n",
       "      <td>1</td>\n",
       "      <td>2</td>\n",
       "      <td>Its the 1983-84 school year and Edward Zanni o...</td>\n",
       "      <td>0.0</td>\n",
       "      <td>69413.0</td>\n",
       "      <td>[]</td>\n",
       "      <td>rivkat</td>\n",
       "      <td>3.0</td>\n",
       "      <td>119</td>\n",
       "      <td>1983 84 school year edward zanni hoboken figur...</td>\n",
       "    </tr>\n",
       "    <tr>\n",
       "      <th>1</th>\n",
       "      <td>2</td>\n",
       "      <td>3</td>\n",
       "      <td>I became privy to this book, when another auth...</td>\n",
       "      <td>0.0</td>\n",
       "      <td>9523995.0</td>\n",
       "      <td>[]</td>\n",
       "      <td>suz.haugland</td>\n",
       "      <td>4.0</td>\n",
       "      <td>565</td>\n",
       "      <td>became privy book another author enjoy reading...</td>\n",
       "    </tr>\n",
       "    <tr>\n",
       "      <th>2</th>\n",
       "      <td>3</td>\n",
       "      <td>4</td>\n",
       "      <td>.</td>\n",
       "      <td>0.0</td>\n",
       "      <td>368228.0</td>\n",
       "      <td>[]</td>\n",
       "      <td>amoskovacs</td>\n",
       "      <td>4.0</td>\n",
       "      <td>1</td>\n",
       "      <td></td>\n",
       "    </tr>\n",
       "    <tr>\n",
       "      <th>3</th>\n",
       "      <td>4</td>\n",
       "      <td>5</td>\n",
       "      <td>This is a tremendous story of a freed woman an...</td>\n",
       "      <td>0.0</td>\n",
       "      <td>11243828.0</td>\n",
       "      <td>[]</td>\n",
       "      <td>CandyH</td>\n",
       "      <td>4.0</td>\n",
       "      <td>79</td>\n",
       "      <td>tremendous story freed woman family sold slave...</td>\n",
       "    </tr>\n",
       "    <tr>\n",
       "      <th>4</th>\n",
       "      <td>5</td>\n",
       "      <td>6</td>\n",
       "      <td>And with this book, I am officially caught up ...</td>\n",
       "      <td>0.0</td>\n",
       "      <td>9071901.0</td>\n",
       "      <td>[]</td>\n",
       "      <td>miyurose</td>\n",
       "      <td>2.0</td>\n",
       "      <td>69</td>\n",
       "      <td>book officially caught series unfortunately on...</td>\n",
       "    </tr>\n",
       "    <tr>\n",
       "      <th>...</th>\n",
       "      <td>...</td>\n",
       "      <td>...</td>\n",
       "      <td>...</td>\n",
       "      <td>...</td>\n",
       "      <td>...</td>\n",
       "      <td>...</td>\n",
       "      <td>...</td>\n",
       "      <td>...</td>\n",
       "      <td>...</td>\n",
       "      <td>...</td>\n",
       "    </tr>\n",
       "    <tr>\n",
       "      <th>803</th>\n",
       "      <td>804</td>\n",
       "      <td>994</td>\n",
       "      <td>A miscellany of articles, poems, interviews an...</td>\n",
       "      <td>0.0</td>\n",
       "      <td>791313.0</td>\n",
       "      <td>[]</td>\n",
       "      <td>gibbon</td>\n",
       "      <td>4.0</td>\n",
       "      <td>32</td>\n",
       "      <td>miscellany articles poems interviews reviews b...</td>\n",
       "    </tr>\n",
       "    <tr>\n",
       "      <th>804</th>\n",
       "      <td>805</td>\n",
       "      <td>995</td>\n",
       "      <td>Chevalier's Lady and the Unicorn centers aroun...</td>\n",
       "      <td>0.0</td>\n",
       "      <td>2987.0</td>\n",
       "      <td>[]</td>\n",
       "      <td>Stewartry</td>\n",
       "      <td>4.0</td>\n",
       "      <td>203</td>\n",
       "      <td>chevalier s lady unicorn centers around weavin...</td>\n",
       "    </tr>\n",
       "    <tr>\n",
       "      <th>805</th>\n",
       "      <td>806</td>\n",
       "      <td>996</td>\n",
       "      <td>With an abundance of excellent books about the...</td>\n",
       "      <td>1.0</td>\n",
       "      <td>5474830.0</td>\n",
       "      <td>[]</td>\n",
       "      <td>khuggard</td>\n",
       "      <td>2.0</td>\n",
       "      <td>202</td>\n",
       "      <td>abundance excellent books civil war south slav...</td>\n",
       "    </tr>\n",
       "    <tr>\n",
       "      <th>806</th>\n",
       "      <td>807</td>\n",
       "      <td>999</td>\n",
       "      <td>In the various discussions/writings about the ...</td>\n",
       "      <td>0.0</td>\n",
       "      <td>245554.0</td>\n",
       "      <td>[]</td>\n",
       "      <td>cyderry</td>\n",
       "      <td>2.5</td>\n",
       "      <td>362</td>\n",
       "      <td>various discussions writings civil war several...</td>\n",
       "    </tr>\n",
       "    <tr>\n",
       "      <th>807</th>\n",
       "      <td>808</td>\n",
       "      <td>1000</td>\n",
       "      <td>The Short and Sweet of It\\nA Pilgrim takes a h...</td>\n",
       "      <td>2.0</td>\n",
       "      <td>25918.0</td>\n",
       "      <td>[]</td>\n",
       "      <td>EclecticEccentric</td>\n",
       "      <td>4.5</td>\n",
       "      <td>754</td>\n",
       "      <td>short sweet pilgrim takes heaven ordained jour...</td>\n",
       "    </tr>\n",
       "  </tbody>\n",
       "</table>\n",
       "<p>808 rows × 10 columns</p>\n",
       "</div>"
      ],
      "text/plain": [
       "     index  Unnamed: 0                                            comment  \\\n",
       "0        1           2  Its the 1983-84 school year and Edward Zanni o...   \n",
       "1        2           3  I became privy to this book, when another auth...   \n",
       "2        3           4                                              .       \n",
       "3        4           5  This is a tremendous story of a freed woman an...   \n",
       "4        5           6  And with this book, I am officially caught up ...   \n",
       "..     ...         ...                                                ...   \n",
       "803    804         994  A miscellany of articles, poems, interviews an...   \n",
       "804    805         995  Chevalier's Lady and the Unicorn centers aroun...   \n",
       "805    806         996  With an abundance of excellent books about the...   \n",
       "806    807         999  In the various discussions/writings about the ...   \n",
       "807    808        1000  The Short and Sweet of It\\nA Pilgrim takes a h...   \n",
       "\n",
       "     nhelpful        work flags               user  stars  word_count  \\\n",
       "0         0.0     69413.0    []             rivkat    3.0         119   \n",
       "1         0.0   9523995.0    []       suz.haugland    4.0         565   \n",
       "2         0.0    368228.0    []         amoskovacs    4.0           1   \n",
       "3         0.0  11243828.0    []             CandyH    4.0          79   \n",
       "4         0.0   9071901.0    []           miyurose    2.0          69   \n",
       "..        ...         ...   ...                ...    ...         ...   \n",
       "803       0.0    791313.0    []             gibbon    4.0          32   \n",
       "804       0.0      2987.0    []          Stewartry    4.0         203   \n",
       "805       1.0   5474830.0    []           khuggard    2.0         202   \n",
       "806       0.0    245554.0    []            cyderry    2.5         362   \n",
       "807       2.0     25918.0    []  EclecticEccentric    4.5         754   \n",
       "\n",
       "                                               cleaned  \n",
       "0    1983 84 school year edward zanni hoboken figur...  \n",
       "1    became privy book another author enjoy reading...  \n",
       "2                                                       \n",
       "3    tremendous story freed woman family sold slave...  \n",
       "4    book officially caught series unfortunately on...  \n",
       "..                                                 ...  \n",
       "803  miscellany articles poems interviews reviews b...  \n",
       "804  chevalier s lady unicorn centers around weavin...  \n",
       "805  abundance excellent books civil war south slav...  \n",
       "806  various discussions writings civil war several...  \n",
       "807  short sweet pilgrim takes heaven ordained jour...  \n",
       "\n",
       "[808 rows x 10 columns]"
      ]
     },
     "execution_count": 75,
     "metadata": {},
     "output_type": "execute_result"
    }
   ],
   "source": [
    "df"
   ]
  },
  {
   "cell_type": "code",
   "execution_count": 76,
   "id": "f214b4b4",
   "metadata": {},
   "outputs": [],
   "source": [
    "def _removeNonAscii(s):\n",
    "    s=str(s)\n",
    "    return \"\".join(i for i in s if  ord(i)<128)\n",
    "\n",
    "def make_lower_case(text):\n",
    "    text=str(text)\n",
    "    return text.lower()\n",
    "\n",
    "def remove_stop_words(text):\n",
    "    text = text.split()\n",
    "    stops = set(stopwords.words(\"english\"))\n",
    "    text = [w for w in text if not w in stops]\n",
    "    text = \" \".join(text)\n",
    "    return text\n",
    "\n",
    "def remove_html(text):\n",
    "    html_pattern = re.compile('<.*?>')\n",
    "    return html_pattern.sub(r'', text)\n",
    "\n",
    "def remove_punctuation(text):\n",
    "    tokenizer = RegexpTokenizer(r'\\w+')\n",
    "    text = tokenizer.tokenize(text)\n",
    "    text = \" \".join(text)\n",
    "    return text\n",
    "\n",
    "df['cleaned'] = df['comment'].apply(_removeNonAscii)\n",
    "\n",
    "df['cleaned'] = df.cleaned.apply(func = make_lower_case)\n",
    "df['cleaned'] = df.cleaned.apply(func = remove_stop_words)\n",
    "df['cleaned'] = df.cleaned.apply(func=remove_punctuation)\n",
    "df['cleaned'] = df.cleaned.apply(func=remove_html)"
   ]
  },
  {
   "cell_type": "code",
   "execution_count": 77,
   "id": "ec84b887",
   "metadata": {},
   "outputs": [],
   "source": [
    "corpus = []\n",
    "for words in df['cleaned']:\n",
    "    corpus.append(words.split())\n"
   ]
  },
  {
   "cell_type": "code",
   "execution_count": 78,
   "id": "abe9d25e",
   "metadata": {},
   "outputs": [
    {
     "data": {
      "text/plain": [
       "(486133, 716650)"
      ]
     },
     "execution_count": 78,
     "metadata": {},
     "output_type": "execute_result"
    }
   ],
   "source": [
    "\n",
    "model = Word2Vec(window = 10, sg = 1, hs = 0,\n",
    "                 negative = 10, \n",
    "                 alpha=0.03, min_alpha=0.0007,\n",
    "                 seed = 14)\n",
    "model.build_vocab(corpus, progress_per=200)\n",
    "model.train(corpus, total_examples = model.corpus_count, \n",
    "            epochs=10, report_delay=1)"
   ]
  },
  {
   "cell_type": "code",
   "execution_count": 79,
   "id": "3a56912d",
   "metadata": {},
   "outputs": [
    {
     "data": {
      "text/html": [
       "<div>\n",
       "<style scoped>\n",
       "    .dataframe tbody tr th:only-of-type {\n",
       "        vertical-align: middle;\n",
       "    }\n",
       "\n",
       "    .dataframe tbody tr th {\n",
       "        vertical-align: top;\n",
       "    }\n",
       "\n",
       "    .dataframe thead th {\n",
       "        text-align: right;\n",
       "    }\n",
       "</style>\n",
       "<table border=\"1\" class=\"dataframe\">\n",
       "  <thead>\n",
       "    <tr style=\"text-align: right;\">\n",
       "      <th></th>\n",
       "      <th>work</th>\n",
       "      <th>comment</th>\n",
       "    </tr>\n",
       "  </thead>\n",
       "  <tbody>\n",
       "    <tr>\n",
       "      <th>0</th>\n",
       "      <td>69413.0</td>\n",
       "      <td>Its the 1983-84 school year and Edward Zanni o...</td>\n",
       "    </tr>\n",
       "    <tr>\n",
       "      <th>1</th>\n",
       "      <td>9523995.0</td>\n",
       "      <td>I became privy to this book, when another auth...</td>\n",
       "    </tr>\n",
       "    <tr>\n",
       "      <th>2</th>\n",
       "      <td>368228.0</td>\n",
       "      <td>.</td>\n",
       "    </tr>\n",
       "    <tr>\n",
       "      <th>3</th>\n",
       "      <td>11243828.0</td>\n",
       "      <td>This is a tremendous story of a freed woman an...</td>\n",
       "    </tr>\n",
       "    <tr>\n",
       "      <th>4</th>\n",
       "      <td>9071901.0</td>\n",
       "      <td>And with this book, I am officially caught up ...</td>\n",
       "    </tr>\n",
       "    <tr>\n",
       "      <th>...</th>\n",
       "      <td>...</td>\n",
       "      <td>...</td>\n",
       "    </tr>\n",
       "    <tr>\n",
       "      <th>803</th>\n",
       "      <td>791313.0</td>\n",
       "      <td>A miscellany of articles, poems, interviews an...</td>\n",
       "    </tr>\n",
       "    <tr>\n",
       "      <th>804</th>\n",
       "      <td>2987.0</td>\n",
       "      <td>Chevalier's Lady and the Unicorn centers aroun...</td>\n",
       "    </tr>\n",
       "    <tr>\n",
       "      <th>805</th>\n",
       "      <td>5474830.0</td>\n",
       "      <td>With an abundance of excellent books about the...</td>\n",
       "    </tr>\n",
       "    <tr>\n",
       "      <th>806</th>\n",
       "      <td>245554.0</td>\n",
       "      <td>In the various discussions/writings about the ...</td>\n",
       "    </tr>\n",
       "    <tr>\n",
       "      <th>807</th>\n",
       "      <td>25918.0</td>\n",
       "      <td>The Short and Sweet of It\\nA Pilgrim takes a h...</td>\n",
       "    </tr>\n",
       "  </tbody>\n",
       "</table>\n",
       "<p>808 rows × 2 columns</p>\n",
       "</div>"
      ],
      "text/plain": [
       "           work                                            comment\n",
       "0       69413.0  Its the 1983-84 school year and Edward Zanni o...\n",
       "1     9523995.0  I became privy to this book, when another auth...\n",
       "2      368228.0                                              .    \n",
       "3    11243828.0  This is a tremendous story of a freed woman an...\n",
       "4     9071901.0  And with this book, I am officially caught up ...\n",
       "..          ...                                                ...\n",
       "803    791313.0  A miscellany of articles, poems, interviews an...\n",
       "804      2987.0  Chevalier's Lady and the Unicorn centers aroun...\n",
       "805   5474830.0  With an abundance of excellent books about the...\n",
       "806    245554.0  In the various discussions/writings about the ...\n",
       "807     25918.0  The Short and Sweet of It\\nA Pilgrim takes a h...\n",
       "\n",
       "[808 rows x 2 columns]"
      ]
     },
     "execution_count": 79,
     "metadata": {},
     "output_type": "execute_result"
    }
   ],
   "source": [
    "watch = df[[\"work\", \"comment\"]]\n",
    "watch"
   ]
  },
  {
   "cell_type": "code",
   "execution_count": 80,
   "id": "8b782ae9",
   "metadata": {},
   "outputs": [],
   "source": [
    "watch_dict = watch.groupby('work')['comment'].apply(list).to_dict()"
   ]
  },
  {
   "cell_type": "markdown",
   "id": "c23a3188",
   "metadata": {},
   "source": [
    "## Representation of reviews and Mapping them with users"
   ]
  },
  {
   "cell_type": "code",
   "execution_count": 81,
   "id": "6e1dedcc",
   "metadata": {},
   "outputs": [
    {
     "data": {
      "text/plain": [
       "[('act', 0.7289184927940369),\n",
       " ('single', 0.7243919372558594),\n",
       " ('winner', 0.7112939953804016),\n",
       " ('finished', 0.7103400826454163),\n",
       " ('toys', 0.7101104259490967)]"
      ]
     },
     "execution_count": 81,
     "metadata": {},
     "output_type": "execute_result"
    }
   ],
   "source": [
    "ms = model.wv.similar_by_vector('every', topn= 6)[1:]\n",
    "ms"
   ]
  },
  {
   "cell_type": "code",
   "execution_count": 82,
   "id": "a47e4895",
   "metadata": {},
   "outputs": [],
   "source": [
    "def vectors(x):\n",
    "    \n",
    "    # Creating a list for storing the vectors (description into vectors)\n",
    "    global word_embeddings\n",
    "    word_embeddings = []\n",
    "    arr=[]\n",
    "    # Reading the each book description\n",
    "    for index, row in df.iterrows():\n",
    "        line=row['cleaned']\n",
    "        avgword2vec = None\n",
    "        count = 0\n",
    "        \"\"\"\n",
    "        for word in model.wv.key_to_index:\n",
    "            if(word not in line.split()):\n",
    "                arr.append(0)\n",
    "            else:\n",
    "                arr.append(model.wv.key_to_index[word])\n",
    "        \"\"\"\n",
    "        \n",
    "        for word in line.split():\n",
    "            if word in model.wv:\n",
    "                count += 1\n",
    "                if avgword2vec is None:\n",
    "                    avgword2vec = model.wv[word]\n",
    "                else:\n",
    "                    avgword2vec = avgword2vec + model.wv[word]\n",
    "        \n",
    "        \n",
    "        if avgword2vec is not None:\n",
    "            avgword2vec = avgword2vec / count\n",
    "        \n",
    "        word_embeddings.append([row['work'],avgword2vec])\n"
   ]
  },
  {
   "cell_type": "code",
   "execution_count": 83,
   "id": "880f5ba6",
   "metadata": {},
   "outputs": [
    {
     "data": {
      "text/plain": [
       "808"
      ]
     },
     "execution_count": 83,
     "metadata": {},
     "output_type": "execute_result"
    }
   ],
   "source": [
    "vectors(df)\n",
    "len(word_embeddings)\n"
   ]
  },
  {
   "cell_type": "code",
   "execution_count": 84,
   "id": "aa983cca",
   "metadata": {},
   "outputs": [],
   "source": [
    "#Building TFIDF model and calculate TFIDF score\n",
    "\n",
    "tfidf = TfidfVectorizer(analyzer='word', ngram_range=(1, 3), min_df = 5, stop_words='english')\n",
    "tfidf.fit(df['cleaned'])\n",
    "\n",
    "# Getting the words from the TF-IDF model\n",
    "\n",
    "tfidf_list = dict(zip(tfidf.get_feature_names_out(), list(tfidf.idf_)))\n",
    "tfidf_feature = tfidf.get_feature_names_out() # tfidf words/col-names\n"
   ]
  },
  {
   "cell_type": "markdown",
   "id": "c5d908cf",
   "metadata": {},
   "source": [
    "## Recommender system "
   ]
  },
  {
   "cell_type": "code",
   "execution_count": 85,
   "id": "490682e4",
   "metadata": {},
   "outputs": [],
   "source": [
    "# Building TF-IDF Word2Vec \n",
    "\n",
    "# Storing the TFIDF Word2Vec embeddings\n",
    "tfidf_vectors = []; \n",
    "line = 0;\n",
    "# for each book description\n",
    "for desc in corpus: \n",
    "  # Word vectors are of zero length (Used 300 dimensions)\n",
    "    sent_vec = np.zeros(100) \n",
    "    # num of words with a valid vector in the book description\n",
    "    weight_sum =0; \n",
    "    # for each word in the book description\n",
    "    for word in desc: \n",
    "        if word in model.wv and word in tfidf_feature:\n",
    "            vec = model.wv[word]\n",
    "            tf_idf = tfidf_list[word] * (desc.count(word) / len(desc))\n",
    "            sent_vec += (vec * tf_idf)\n",
    "            weight_sum += tf_idf\n",
    "    if weight_sum != 0:\n",
    "        sent_vec /= weight_sum\n",
    "    tfidf_vectors.append(sent_vec)\n",
    "    line += 1"
   ]
  },
  {
   "cell_type": "code",
   "execution_count": 86,
   "id": "a5d3f79e",
   "metadata": {},
   "outputs": [],
   "source": [
    "def recommendations(cleaned):\n",
    "    \n",
    "    # finding cosine similarity for the vectors\n",
    "\n",
    "    cosine_similarities = cosine_similarity(tfidf_vectors,  tfidf_vectors)\n",
    "    \n",
    "    \n",
    "    # taking the title and book image link and store in new data frame called books\n",
    "    books = df[['work', 'cleaned', 'comment']]\n",
    "    #Reverse mapping of the index\n",
    "    indices = pd.Series(df.index, index = df['cleaned']).drop_duplicates()\n",
    "    #print(indices.shape)\n",
    "    \n",
    "    idx = indices[cleaned]\n",
    "    sim_scores = list(enumerate(cosine_similarities[idx]))\n",
    "    sim_scores = sorted(sim_scores, key = lambda x: x[1], reverse = True)\n",
    "    sim_scores = sim_scores[1:6]\n",
    "    return sim_scores"
   ]
  },
  {
   "cell_type": "code",
   "execution_count": 87,
   "id": "be40a149",
   "metadata": {},
   "outputs": [],
   "source": [
    "import requests\n",
    "from bs4 import BeautifulSoup\n",
    "\n",
    "def find_title(work):\n",
    "    a=int(work)\n",
    "    r = requests.get('https://www.librarything.com/work/'+str(a)+'/workdetails') \n",
    "\n",
    "    soup = BeautifulSoup(r.content, 'html.parser') \n",
    "\n",
    "    t=str(soup.title)\n",
    "    t=t.replace(\"<title>Workdetails: \",\"\")\n",
    "    t=t.replace(\" | LibraryThing</title>\",\"\")\n",
    "    return t\n"
   ]
  },
  {
   "cell_type": "code",
   "execution_count": 88,
   "id": "44fb166b",
   "metadata": {},
   "outputs": [],
   "source": [
    "def final_rec(user):\n",
    "    books = df[['work', 'cleaned', 'comment']]\n",
    "    dfn = df[df['user']==user]\n",
    "    c=[]\n",
    "    for index, row in dfn.iterrows():\n",
    "        c.append(recommendations(row['cleaned']))\n",
    "    k=[]\n",
    "    for i in c:\n",
    "        for j in i:\n",
    "            k.append(j)\n",
    "    k = sorted(k, key = lambda x: x[1], reverse = True)\n",
    "    k = k[0:6]\n",
    "    book_indices = [i[0] for i in k]\n",
    "    recommend = books.iloc[book_indices]\n",
    "    for index, row in recommend.iterrows():\n",
    "        print(find_title(row['work']))\n",
    "       "
   ]
  },
  {
   "cell_type": "code",
   "execution_count": 90,
   "id": "4033be56",
   "metadata": {},
   "outputs": [
    {
     "name": "stdout",
     "output_type": "stream",
     "text": [
      "(808,)\n",
      "The Late, Lamented Molly Marx by Sally Koslow\n",
      "The Strangely Beautiful Tale of Miss Percy Parker by Leanna Renee Hieber\n",
      "Shelter by Harlan Coben\n",
      "Dakota Home by Debbie Macomber\n",
      "A Kestrel for a Knave by Barry Hines\n"
     ]
    }
   ],
   "source": [
    "final_rec('suz.haugland')"
   ]
  },
  {
   "cell_type": "markdown",
   "id": "3c15b7ec",
   "metadata": {},
   "source": [
    "## Novelties/ Contributions"
   ]
  },
  {
   "cell_type": "markdown",
   "id": "dc366c2b",
   "metadata": {},
   "source": [
    "Combined the formulations of tf-idf along with pre-trained word2vec model for training and vector formation of word embeddings.\n",
    "used three matrics for evaluation namely Precision, Recall and F1-score. Worked on two different large scale datasets.\n",
    "\n",
    "NOTE: the code has been tested on limited part of datasets due to computational constraints.\n",
    "\n",
    "Contributions:-\n",
    "\n",
    "Epinions.txt converted to suitable form by Kavisha Madani\\\n",
    "Reviews.txt pre-processed by Shashwat Parikh\\\n",
    "EDA and data analysis done by Kavisha Madani and Mayan Bhut\\\n",
    "Feature Extractions and Vectorization done by Shashwat Parikh and Shubham Gupta\\\n",
    "Model mapping with user done by Shashwat Parikh\\\n",
    "Recommendation system evaluation done in group"
   ]
  },
  {
   "cell_type": "markdown",
   "id": "118bd713",
   "metadata": {},
   "source": [
    "## References"
   ]
  },
  {
   "cell_type": "markdown",
   "id": "0bdf69a9",
   "metadata": {},
   "source": [
    "1. Practical Recommendation System by Oreilly book\n",
    "2. Recommendation System textbook by Charu Aggarwal\n",
    "3. Medium and KDnuggets online articles \n",
    "4. (https://medium.com/fnplus/evaluating-recommender-systems-with-python-code-ae0c370c90be)\n",
    "5. (https://www.kdnuggets.com/2019/11/speed-up-pandas-4x.html)\n",
    "6. https://medium.com/@toprak.mhmt/content-based-recommender-system-bdfc60b1bee8"
   ]
  },
  {
   "cell_type": "code",
   "execution_count": null,
   "id": "bbe4e6fd",
   "metadata": {},
   "outputs": [],
   "source": []
  }
 ],
 "metadata": {
  "kernelspec": {
   "display_name": "Python 3 (ipykernel)",
   "language": "python",
   "name": "python3"
  },
  "language_info": {
   "codemirror_mode": {
    "name": "ipython",
    "version": 3
   },
   "file_extension": ".py",
   "mimetype": "text/x-python",
   "name": "python",
   "nbconvert_exporter": "python",
   "pygments_lexer": "ipython3",
   "version": "3.11.4"
  }
 },
 "nbformat": 4,
 "nbformat_minor": 5
}
